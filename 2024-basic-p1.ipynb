{
 "cells": [
  {
   "cell_type": "markdown",
   "id": "f53ce523",
   "metadata": {
    "execution": {
     "iopub.execute_input": "2024-08-16T11:26:10.279957Z",
     "iopub.status.busy": "2024-08-16T11:26:10.279022Z",
     "iopub.status.idle": "2024-08-16T11:26:10.300883Z",
     "shell.execute_reply": "2024-08-16T11:26:10.299278Z",
     "shell.execute_reply.started": "2024-08-16T11:26:10.279923Z"
    },
    "papermill": {
     "duration": 0.014456,
     "end_time": "2024-08-20T04:56:43.114084",
     "exception": false,
     "start_time": "2024-08-20T04:56:43.099628",
     "status": "completed"
    },
    "tags": []
   },
   "source": [
    "## 데이터셋 설명\n",
    "- 본 데이터셋은 텍스트 정보와 직무에 대한 메타 정보로 구성되어 있습니다.\n",
    "- 데이터셋에는 길이 제한이 없는 잡 포스팅과, 해당 포스팅이 진짜인지, 혹은 가짜인지의 여부가 포함되어 있습니다.\n",
    "- 자연어(Natrual Language) 데이터, 그 중에서도 영어 데이터를 전처리하여 텍스트 데이터를 딥러닝에 적용하는 과정을 통해, 데이터 전처리와 특징 추출의 과정을 배워보시길 바랍니다.\n",
    "\n",
    "## 자연어 처리 (Natural Language Processing, NLP)\n",
    "- 자연어 데이터를 머신러닝에 사용하기 위해서는 데이터를 머신러닝에 사용할 수 있도록 전처리하는 과정이 필요합니다.\n",
    "- 일반적으로 머신러닝에 사용되는 데이터가 어떤 형태이고, 자연어가 이와 어떻게 다른지 생각해봅시다.\n",
    "    - 데이터의 크기: 대부분의 머신러닝 모델들은 고정된 크기의 입력 데이터를 받습니다. 그러나, 자연어는 문장에 따라 길이가 상이합니다. 때문에 자연어를 머신러닝 모델에 투입하려면 데이터를 고정된 크기로 변환해줘야 합니다.\n",
    "    - 데이터의 형태: 머신러닝 모델들은 실수 데이터를 입력 받습니다. 그러나, 자연어 데이터는 문자형(char, string)으로 되어있습니다.\n",
    "- 이러한 문제들로 자연어 처리에서는 전처리 방식이 매우 중요합니다."
   ]
  },
  {
   "cell_type": "code",
   "execution_count": 1,
   "id": "2b4503c3",
   "metadata": {
    "execution": {
     "iopub.execute_input": "2024-08-20T04:56:43.146593Z",
     "iopub.status.busy": "2024-08-20T04:56:43.145507Z",
     "iopub.status.idle": "2024-08-20T04:56:51.126988Z",
     "shell.execute_reply": "2024-08-20T04:56:51.126086Z"
    },
    "papermill": {
     "duration": 8.000738,
     "end_time": "2024-08-20T04:56:51.129697",
     "exception": false,
     "start_time": "2024-08-20T04:56:43.128959",
     "status": "completed"
    },
    "tags": []
   },
   "outputs": [],
   "source": [
    "# 라이브러리 임포트\n",
    "import os\n",
    "import random\n",
    "from PIL import Image\n",
    "\n",
    "import numpy as np\n",
    "import pandas as pd\n",
    "import matplotlib.pyplot as plt\n",
    "\n",
    "import torch\n",
    "import torch.nn as nn\n",
    "import torch.optim as optim\n",
    "import torch.nn.functional as F\n",
    "from torch.utils.data import TensorDataset, DataLoader\n",
    "\n",
    "from tqdm import tqdm\n",
    "\n",
    "from sklearn.metrics import accuracy_score\n",
    "\n",
    "import torchvision\n",
    "from torchvision.models import VGG16_Weights\n",
    "from torchvision.transforms import v2"
   ]
  },
  {
   "cell_type": "code",
   "execution_count": 2,
   "id": "282b7dc3",
   "metadata": {
    "execution": {
     "iopub.execute_input": "2024-08-20T04:56:51.159961Z",
     "iopub.status.busy": "2024-08-20T04:56:51.159438Z",
     "iopub.status.idle": "2024-08-20T04:56:51.165018Z",
     "shell.execute_reply": "2024-08-20T04:56:51.164016Z"
    },
    "papermill": {
     "duration": 0.022965,
     "end_time": "2024-08-20T04:56:51.167238",
     "exception": false,
     "start_time": "2024-08-20T04:56:51.144273",
     "status": "completed"
    },
    "tags": []
   },
   "outputs": [],
   "source": [
    "# 하이퍼파라미터\n",
    "args = {\n",
    "    \"train_path\" : \"/kaggle/input/2024-outta-basic-p-1/train.csv\",      # train 데이터 경로\n",
    "    \"test_path\" : \"/kaggle/input/2024-outta-basic-p-1/test.csv\",       # test 데이터 경로\n",
    "    \"submit_path\" : \"/kaggle/input/2024-outta-basic-p-1/sample_submission.csv\",     # submit 파일 경로\n",
    "    \"batch_size\" : 128,\n",
    "    \"epochs\" : 30,\n",
    "    \"lr\" : 2e-4,\n",
    "    \"seed_val\" : 42         # 절대 수정하지 마세요.\n",
    "}"
   ]
  },
  {
   "cell_type": "code",
   "execution_count": 3,
   "id": "15da51df",
   "metadata": {
    "execution": {
     "iopub.execute_input": "2024-08-20T04:56:51.198828Z",
     "iopub.status.busy": "2024-08-20T04:56:51.197898Z",
     "iopub.status.idle": "2024-08-20T04:56:51.277191Z",
     "shell.execute_reply": "2024-08-20T04:56:51.276336Z"
    },
    "papermill": {
     "duration": 0.097268,
     "end_time": "2024-08-20T04:56:51.279651",
     "exception": false,
     "start_time": "2024-08-20T04:56:51.182383",
     "status": "completed"
    },
    "tags": []
   },
   "outputs": [],
   "source": [
    "# 랜덤시드 고정하기\n",
    "seed = args[\"seed_val\"]\n",
    "random.seed(seed)\n",
    "np.random.seed(seed)\n",
    "torch.manual_seed(seed)\n",
    "if torch.cuda.is_available() : \n",
    "    torch.cuda.manual_seed(seed)\n",
    "    torch.cuda.manual_seed_all(seed)\n",
    "torch.backends.cudnn.benchmark = False\n",
    "torch.backends.cudnn.deterministic = True\n",
    "\n",
    "# 디바이스 선택\n",
    "device = torch.device('cuda' if torch.cuda.is_available() else 'cpu')"
   ]
  },
  {
   "cell_type": "code",
   "execution_count": 4,
   "id": "c836d2bb",
   "metadata": {
    "execution": {
     "iopub.execute_input": "2024-08-20T04:56:51.310371Z",
     "iopub.status.busy": "2024-08-20T04:56:51.309578Z",
     "iopub.status.idle": "2024-08-20T04:56:51.316994Z",
     "shell.execute_reply": "2024-08-20T04:56:51.315992Z"
    },
    "papermill": {
     "duration": 0.025361,
     "end_time": "2024-08-20T04:56:51.319168",
     "exception": false,
     "start_time": "2024-08-20T04:56:51.293807",
     "status": "completed"
    },
    "tags": []
   },
   "outputs": [
    {
     "data": {
      "text/plain": [
       "device(type='cuda')"
      ]
     },
     "execution_count": 4,
     "metadata": {},
     "output_type": "execute_result"
    }
   ],
   "source": [
    "device"
   ]
  },
  {
   "cell_type": "code",
   "execution_count": 5,
   "id": "dbdb8b22",
   "metadata": {
    "execution": {
     "iopub.execute_input": "2024-08-20T04:56:51.350201Z",
     "iopub.status.busy": "2024-08-20T04:56:51.349328Z",
     "iopub.status.idle": "2024-08-20T04:56:51.354536Z",
     "shell.execute_reply": "2024-08-20T04:56:51.353537Z"
    },
    "papermill": {
     "duration": 0.022906,
     "end_time": "2024-08-20T04:56:51.356641",
     "exception": false,
     "start_time": "2024-08-20T04:56:51.333735",
     "status": "completed"
    },
    "tags": []
   },
   "outputs": [],
   "source": [
    "if torch.backends.mps.is_available():\n",
    "    device = torch.device('mps')\n",
    "    print(f\"mps is selected for m1. device : {device}\")"
   ]
  },
  {
   "cell_type": "code",
   "execution_count": 6,
   "id": "12f9c100",
   "metadata": {
    "execution": {
     "iopub.execute_input": "2024-08-20T04:56:51.387376Z",
     "iopub.status.busy": "2024-08-20T04:56:51.386391Z",
     "iopub.status.idle": "2024-08-20T04:57:07.509499Z",
     "shell.execute_reply": "2024-08-20T04:57:07.508170Z"
    },
    "papermill": {
     "duration": 16.141313,
     "end_time": "2024-08-20T04:57:07.512492",
     "exception": false,
     "start_time": "2024-08-20T04:56:51.371179",
     "status": "completed"
    },
    "tags": []
   },
   "outputs": [
    {
     "name": "stdout",
     "output_type": "stream",
     "text": [
      "Collecting torchsummary\r\n",
      "  Downloading torchsummary-1.5.1-py3-none-any.whl.metadata (296 bytes)\r\n",
      "Downloading torchsummary-1.5.1-py3-none-any.whl (2.8 kB)\r\n",
      "Installing collected packages: torchsummary\r\n",
      "Successfully installed torchsummary-1.5.1\r\n",
      "Note: you may need to restart the kernel to use updated packages.\n"
     ]
    }
   ],
   "source": [
    "# ! 와 %의 차이는 %썼을 때 프로세스 유지\n",
    "%pip install torchsummary ## model을 요약하기 위해 torchsummary 설치"
   ]
  },
  {
   "cell_type": "code",
   "execution_count": 7,
   "id": "b6e10b57",
   "metadata": {
    "execution": {
     "iopub.execute_input": "2024-08-20T04:57:07.549299Z",
     "iopub.status.busy": "2024-08-20T04:57:07.548853Z",
     "iopub.status.idle": "2024-08-20T04:57:07.561841Z",
     "shell.execute_reply": "2024-08-20T04:57:07.560122Z"
    },
    "papermill": {
     "duration": 0.033676,
     "end_time": "2024-08-20T04:57:07.565462",
     "exception": false,
     "start_time": "2024-08-20T04:57:07.531786",
     "status": "completed"
    },
    "tags": []
   },
   "outputs": [],
   "source": [
    "from torchsummary import summary as summary_## 모델 정보를 확인하기 위해 torchsummary 함수 import\n",
    "\n",
    "## 모델의 형태를 출력하기 위한 함수 \n",
    "def summary_model(model, input_shape=(3,32,32)):\n",
    "    model = model.to(device)\n",
    "    summary_(model, input_shape) ## (model, (input shape))"
   ]
  },
  {
   "cell_type": "markdown",
   "id": "cbe6a341",
   "metadata": {
    "papermill": {
     "duration": 0.015821,
     "end_time": "2024-08-20T04:57:07.603120",
     "exception": false,
     "start_time": "2024-08-20T04:57:07.587299",
     "status": "completed"
    },
    "tags": []
   },
   "source": [
    "# **1. 데이터셋**"
   ]
  },
  {
   "cell_type": "markdown",
   "id": "9fea63e2",
   "metadata": {
    "papermill": {
     "duration": 0.015262,
     "end_time": "2024-08-20T04:57:07.633983",
     "exception": false,
     "start_time": "2024-08-20T04:57:07.618721",
     "status": "completed"
    },
    "tags": []
   },
   "source": [
    "## **(1) 데이터 불러오기 및 전처리**"
   ]
  },
  {
   "cell_type": "code",
   "execution_count": 8,
   "id": "b894447d",
   "metadata": {
    "execution": {
     "iopub.execute_input": "2024-08-20T04:57:07.666795Z",
     "iopub.status.busy": "2024-08-20T04:57:07.666390Z",
     "iopub.status.idle": "2024-08-20T04:57:13.469680Z",
     "shell.execute_reply": "2024-08-20T04:57:13.468528Z"
    },
    "papermill": {
     "duration": 5.822873,
     "end_time": "2024-08-20T04:57:13.472407",
     "exception": false,
     "start_time": "2024-08-20T04:57:07.649534",
     "status": "completed"
    },
    "tags": []
   },
   "outputs": [],
   "source": [
    "# 훈련 및 테스트 데이터 로드\n",
    "train = pd.read_csv(args['train_path'])\n",
    "test = pd.read_csv(args['test_path'])"
   ]
  },
  {
   "cell_type": "code",
   "execution_count": 9,
   "id": "fad821c3",
   "metadata": {
    "execution": {
     "iopub.execute_input": "2024-08-20T04:57:13.504864Z",
     "iopub.status.busy": "2024-08-20T04:57:13.504469Z",
     "iopub.status.idle": "2024-08-20T04:57:13.536078Z",
     "shell.execute_reply": "2024-08-20T04:57:13.535056Z"
    },
    "papermill": {
     "duration": 0.051282,
     "end_time": "2024-08-20T04:57:13.538734",
     "exception": false,
     "start_time": "2024-08-20T04:57:13.487452",
     "status": "completed"
    },
    "tags": []
   },
   "outputs": [
    {
     "data": {
      "text/html": [
       "<div>\n",
       "<style scoped>\n",
       "    .dataframe tbody tr th:only-of-type {\n",
       "        vertical-align: middle;\n",
       "    }\n",
       "\n",
       "    .dataframe tbody tr th {\n",
       "        vertical-align: top;\n",
       "    }\n",
       "\n",
       "    .dataframe thead th {\n",
       "        text-align: right;\n",
       "    }\n",
       "</style>\n",
       "<table border=\"1\" class=\"dataframe\">\n",
       "  <thead>\n",
       "    <tr style=\"text-align: right;\">\n",
       "      <th></th>\n",
       "      <th>label</th>\n",
       "      <th>pixel1</th>\n",
       "      <th>pixel2</th>\n",
       "      <th>pixel3</th>\n",
       "      <th>pixel4</th>\n",
       "      <th>pixel5</th>\n",
       "      <th>pixel6</th>\n",
       "      <th>pixel7</th>\n",
       "      <th>pixel8</th>\n",
       "      <th>pixel9</th>\n",
       "      <th>...</th>\n",
       "      <th>pixel775</th>\n",
       "      <th>pixel776</th>\n",
       "      <th>pixel777</th>\n",
       "      <th>pixel778</th>\n",
       "      <th>pixel779</th>\n",
       "      <th>pixel780</th>\n",
       "      <th>pixel781</th>\n",
       "      <th>pixel782</th>\n",
       "      <th>pixel783</th>\n",
       "      <th>pixel784</th>\n",
       "    </tr>\n",
       "  </thead>\n",
       "  <tbody>\n",
       "    <tr>\n",
       "      <th>0</th>\n",
       "      <td>3</td>\n",
       "      <td>107</td>\n",
       "      <td>118</td>\n",
       "      <td>127</td>\n",
       "      <td>134</td>\n",
       "      <td>139</td>\n",
       "      <td>143</td>\n",
       "      <td>146</td>\n",
       "      <td>150</td>\n",
       "      <td>153</td>\n",
       "      <td>...</td>\n",
       "      <td>207</td>\n",
       "      <td>207</td>\n",
       "      <td>207</td>\n",
       "      <td>207</td>\n",
       "      <td>206</td>\n",
       "      <td>206</td>\n",
       "      <td>206</td>\n",
       "      <td>204</td>\n",
       "      <td>203</td>\n",
       "      <td>202</td>\n",
       "    </tr>\n",
       "    <tr>\n",
       "      <th>1</th>\n",
       "      <td>6</td>\n",
       "      <td>155</td>\n",
       "      <td>157</td>\n",
       "      <td>156</td>\n",
       "      <td>156</td>\n",
       "      <td>156</td>\n",
       "      <td>157</td>\n",
       "      <td>156</td>\n",
       "      <td>158</td>\n",
       "      <td>158</td>\n",
       "      <td>...</td>\n",
       "      <td>69</td>\n",
       "      <td>149</td>\n",
       "      <td>128</td>\n",
       "      <td>87</td>\n",
       "      <td>94</td>\n",
       "      <td>163</td>\n",
       "      <td>175</td>\n",
       "      <td>103</td>\n",
       "      <td>135</td>\n",
       "      <td>149</td>\n",
       "    </tr>\n",
       "    <tr>\n",
       "      <th>2</th>\n",
       "      <td>2</td>\n",
       "      <td>187</td>\n",
       "      <td>188</td>\n",
       "      <td>188</td>\n",
       "      <td>187</td>\n",
       "      <td>187</td>\n",
       "      <td>186</td>\n",
       "      <td>187</td>\n",
       "      <td>188</td>\n",
       "      <td>187</td>\n",
       "      <td>...</td>\n",
       "      <td>202</td>\n",
       "      <td>201</td>\n",
       "      <td>200</td>\n",
       "      <td>199</td>\n",
       "      <td>198</td>\n",
       "      <td>199</td>\n",
       "      <td>198</td>\n",
       "      <td>195</td>\n",
       "      <td>194</td>\n",
       "      <td>195</td>\n",
       "    </tr>\n",
       "    <tr>\n",
       "      <th>3</th>\n",
       "      <td>2</td>\n",
       "      <td>211</td>\n",
       "      <td>211</td>\n",
       "      <td>212</td>\n",
       "      <td>212</td>\n",
       "      <td>211</td>\n",
       "      <td>210</td>\n",
       "      <td>211</td>\n",
       "      <td>210</td>\n",
       "      <td>210</td>\n",
       "      <td>...</td>\n",
       "      <td>235</td>\n",
       "      <td>234</td>\n",
       "      <td>233</td>\n",
       "      <td>231</td>\n",
       "      <td>230</td>\n",
       "      <td>226</td>\n",
       "      <td>225</td>\n",
       "      <td>222</td>\n",
       "      <td>229</td>\n",
       "      <td>163</td>\n",
       "    </tr>\n",
       "    <tr>\n",
       "      <th>4</th>\n",
       "      <td>13</td>\n",
       "      <td>164</td>\n",
       "      <td>167</td>\n",
       "      <td>170</td>\n",
       "      <td>172</td>\n",
       "      <td>176</td>\n",
       "      <td>179</td>\n",
       "      <td>180</td>\n",
       "      <td>184</td>\n",
       "      <td>185</td>\n",
       "      <td>...</td>\n",
       "      <td>92</td>\n",
       "      <td>105</td>\n",
       "      <td>105</td>\n",
       "      <td>108</td>\n",
       "      <td>133</td>\n",
       "      <td>163</td>\n",
       "      <td>157</td>\n",
       "      <td>163</td>\n",
       "      <td>164</td>\n",
       "      <td>179</td>\n",
       "    </tr>\n",
       "  </tbody>\n",
       "</table>\n",
       "<p>5 rows × 785 columns</p>\n",
       "</div>"
      ],
      "text/plain": [
       "   label  pixel1  pixel2  pixel3  pixel4  pixel5  pixel6  pixel7  pixel8  \\\n",
       "0      3     107     118     127     134     139     143     146     150   \n",
       "1      6     155     157     156     156     156     157     156     158   \n",
       "2      2     187     188     188     187     187     186     187     188   \n",
       "3      2     211     211     212     212     211     210     211     210   \n",
       "4     13     164     167     170     172     176     179     180     184   \n",
       "\n",
       "   pixel9  ...  pixel775  pixel776  pixel777  pixel778  pixel779  pixel780  \\\n",
       "0     153  ...       207       207       207       207       206       206   \n",
       "1     158  ...        69       149       128        87        94       163   \n",
       "2     187  ...       202       201       200       199       198       199   \n",
       "3     210  ...       235       234       233       231       230       226   \n",
       "4     185  ...        92       105       105       108       133       163   \n",
       "\n",
       "   pixel781  pixel782  pixel783  pixel784  \n",
       "0       206       204       203       202  \n",
       "1       175       103       135       149  \n",
       "2       198       195       194       195  \n",
       "3       225       222       229       163  \n",
       "4       157       163       164       179  \n",
       "\n",
       "[5 rows x 785 columns]"
      ]
     },
     "execution_count": 9,
     "metadata": {},
     "output_type": "execute_result"
    }
   ],
   "source": [
    "train.head()"
   ]
  },
  {
   "cell_type": "code",
   "execution_count": 10,
   "id": "563f9396",
   "metadata": {
    "execution": {
     "iopub.execute_input": "2024-08-20T04:57:13.573288Z",
     "iopub.status.busy": "2024-08-20T04:57:13.572877Z",
     "iopub.status.idle": "2024-08-20T04:57:13.578946Z",
     "shell.execute_reply": "2024-08-20T04:57:13.577933Z"
    },
    "papermill": {
     "duration": 0.025123,
     "end_time": "2024-08-20T04:57:13.581100",
     "exception": false,
     "start_time": "2024-08-20T04:57:13.555977",
     "status": "completed"
    },
    "tags": []
   },
   "outputs": [],
   "source": [
    "# (1-1) 훈련 데이터에서 특징(x_train)과 라벨(y_train) 분리\n",
    "x_train = train.iloc[:, 1:]   # 첫 번째 열을 제외한 모든 열 (특징)\n",
    "y_train = train['label']  # 'label' 열 (라벨)\n",
    "x_test = test.iloc[:, :]   # 테스트 데이터"
   ]
  },
  {
   "cell_type": "code",
   "execution_count": 11,
   "id": "d680ff93",
   "metadata": {
    "execution": {
     "iopub.execute_input": "2024-08-20T04:57:13.613372Z",
     "iopub.status.busy": "2024-08-20T04:57:13.612959Z",
     "iopub.status.idle": "2024-08-20T04:57:13.633375Z",
     "shell.execute_reply": "2024-08-20T04:57:13.632065Z"
    },
    "papermill": {
     "duration": 0.040012,
     "end_time": "2024-08-20T04:57:13.636623",
     "exception": false,
     "start_time": "2024-08-20T04:57:13.596611",
     "status": "completed"
    },
    "tags": []
   },
   "outputs": [
    {
     "data": {
      "text/html": [
       "<div>\n",
       "<style scoped>\n",
       "    .dataframe tbody tr th:only-of-type {\n",
       "        vertical-align: middle;\n",
       "    }\n",
       "\n",
       "    .dataframe tbody tr th {\n",
       "        vertical-align: top;\n",
       "    }\n",
       "\n",
       "    .dataframe thead th {\n",
       "        text-align: right;\n",
       "    }\n",
       "</style>\n",
       "<table border=\"1\" class=\"dataframe\">\n",
       "  <thead>\n",
       "    <tr style=\"text-align: right;\">\n",
       "      <th></th>\n",
       "      <th>pixel1</th>\n",
       "      <th>pixel2</th>\n",
       "      <th>pixel3</th>\n",
       "      <th>pixel4</th>\n",
       "      <th>pixel5</th>\n",
       "      <th>pixel6</th>\n",
       "      <th>pixel7</th>\n",
       "      <th>pixel8</th>\n",
       "      <th>pixel9</th>\n",
       "      <th>pixel10</th>\n",
       "      <th>...</th>\n",
       "      <th>pixel775</th>\n",
       "      <th>pixel776</th>\n",
       "      <th>pixel777</th>\n",
       "      <th>pixel778</th>\n",
       "      <th>pixel779</th>\n",
       "      <th>pixel780</th>\n",
       "      <th>pixel781</th>\n",
       "      <th>pixel782</th>\n",
       "      <th>pixel783</th>\n",
       "      <th>pixel784</th>\n",
       "    </tr>\n",
       "  </thead>\n",
       "  <tbody>\n",
       "    <tr>\n",
       "      <th>0</th>\n",
       "      <td>107</td>\n",
       "      <td>118</td>\n",
       "      <td>127</td>\n",
       "      <td>134</td>\n",
       "      <td>139</td>\n",
       "      <td>143</td>\n",
       "      <td>146</td>\n",
       "      <td>150</td>\n",
       "      <td>153</td>\n",
       "      <td>156</td>\n",
       "      <td>...</td>\n",
       "      <td>207</td>\n",
       "      <td>207</td>\n",
       "      <td>207</td>\n",
       "      <td>207</td>\n",
       "      <td>206</td>\n",
       "      <td>206</td>\n",
       "      <td>206</td>\n",
       "      <td>204</td>\n",
       "      <td>203</td>\n",
       "      <td>202</td>\n",
       "    </tr>\n",
       "    <tr>\n",
       "      <th>1</th>\n",
       "      <td>155</td>\n",
       "      <td>157</td>\n",
       "      <td>156</td>\n",
       "      <td>156</td>\n",
       "      <td>156</td>\n",
       "      <td>157</td>\n",
       "      <td>156</td>\n",
       "      <td>158</td>\n",
       "      <td>158</td>\n",
       "      <td>157</td>\n",
       "      <td>...</td>\n",
       "      <td>69</td>\n",
       "      <td>149</td>\n",
       "      <td>128</td>\n",
       "      <td>87</td>\n",
       "      <td>94</td>\n",
       "      <td>163</td>\n",
       "      <td>175</td>\n",
       "      <td>103</td>\n",
       "      <td>135</td>\n",
       "      <td>149</td>\n",
       "    </tr>\n",
       "    <tr>\n",
       "      <th>2</th>\n",
       "      <td>187</td>\n",
       "      <td>188</td>\n",
       "      <td>188</td>\n",
       "      <td>187</td>\n",
       "      <td>187</td>\n",
       "      <td>186</td>\n",
       "      <td>187</td>\n",
       "      <td>188</td>\n",
       "      <td>187</td>\n",
       "      <td>186</td>\n",
       "      <td>...</td>\n",
       "      <td>202</td>\n",
       "      <td>201</td>\n",
       "      <td>200</td>\n",
       "      <td>199</td>\n",
       "      <td>198</td>\n",
       "      <td>199</td>\n",
       "      <td>198</td>\n",
       "      <td>195</td>\n",
       "      <td>194</td>\n",
       "      <td>195</td>\n",
       "    </tr>\n",
       "    <tr>\n",
       "      <th>3</th>\n",
       "      <td>211</td>\n",
       "      <td>211</td>\n",
       "      <td>212</td>\n",
       "      <td>212</td>\n",
       "      <td>211</td>\n",
       "      <td>210</td>\n",
       "      <td>211</td>\n",
       "      <td>210</td>\n",
       "      <td>210</td>\n",
       "      <td>211</td>\n",
       "      <td>...</td>\n",
       "      <td>235</td>\n",
       "      <td>234</td>\n",
       "      <td>233</td>\n",
       "      <td>231</td>\n",
       "      <td>230</td>\n",
       "      <td>226</td>\n",
       "      <td>225</td>\n",
       "      <td>222</td>\n",
       "      <td>229</td>\n",
       "      <td>163</td>\n",
       "    </tr>\n",
       "    <tr>\n",
       "      <th>4</th>\n",
       "      <td>164</td>\n",
       "      <td>167</td>\n",
       "      <td>170</td>\n",
       "      <td>172</td>\n",
       "      <td>176</td>\n",
       "      <td>179</td>\n",
       "      <td>180</td>\n",
       "      <td>184</td>\n",
       "      <td>185</td>\n",
       "      <td>186</td>\n",
       "      <td>...</td>\n",
       "      <td>92</td>\n",
       "      <td>105</td>\n",
       "      <td>105</td>\n",
       "      <td>108</td>\n",
       "      <td>133</td>\n",
       "      <td>163</td>\n",
       "      <td>157</td>\n",
       "      <td>163</td>\n",
       "      <td>164</td>\n",
       "      <td>179</td>\n",
       "    </tr>\n",
       "  </tbody>\n",
       "</table>\n",
       "<p>5 rows × 784 columns</p>\n",
       "</div>"
      ],
      "text/plain": [
       "   pixel1  pixel2  pixel3  pixel4  pixel5  pixel6  pixel7  pixel8  pixel9  \\\n",
       "0     107     118     127     134     139     143     146     150     153   \n",
       "1     155     157     156     156     156     157     156     158     158   \n",
       "2     187     188     188     187     187     186     187     188     187   \n",
       "3     211     211     212     212     211     210     211     210     210   \n",
       "4     164     167     170     172     176     179     180     184     185   \n",
       "\n",
       "   pixel10  ...  pixel775  pixel776  pixel777  pixel778  pixel779  pixel780  \\\n",
       "0      156  ...       207       207       207       207       206       206   \n",
       "1      157  ...        69       149       128        87        94       163   \n",
       "2      186  ...       202       201       200       199       198       199   \n",
       "3      211  ...       235       234       233       231       230       226   \n",
       "4      186  ...        92       105       105       108       133       163   \n",
       "\n",
       "   pixel781  pixel782  pixel783  pixel784  \n",
       "0       206       204       203       202  \n",
       "1       175       103       135       149  \n",
       "2       198       195       194       195  \n",
       "3       225       222       229       163  \n",
       "4       157       163       164       179  \n",
       "\n",
       "[5 rows x 784 columns]"
      ]
     },
     "execution_count": 11,
     "metadata": {},
     "output_type": "execute_result"
    }
   ],
   "source": [
    "x_train.head()"
   ]
  },
  {
   "cell_type": "code",
   "execution_count": 12,
   "id": "9d6cb94c",
   "metadata": {
    "execution": {
     "iopub.execute_input": "2024-08-20T04:57:13.672359Z",
     "iopub.status.busy": "2024-08-20T04:57:13.671921Z",
     "iopub.status.idle": "2024-08-20T04:57:13.680260Z",
     "shell.execute_reply": "2024-08-20T04:57:13.678995Z"
    },
    "papermill": {
     "duration": 0.028053,
     "end_time": "2024-08-20T04:57:13.682580",
     "exception": false,
     "start_time": "2024-08-20T04:57:13.654527",
     "status": "completed"
    },
    "tags": []
   },
   "outputs": [
    {
     "data": {
      "text/plain": [
       "0     3\n",
       "1     6\n",
       "2     2\n",
       "3     2\n",
       "4    13\n",
       "Name: label, dtype: int64"
      ]
     },
     "execution_count": 12,
     "metadata": {},
     "output_type": "execute_result"
    }
   ],
   "source": [
    "y_train.head()"
   ]
  },
  {
   "cell_type": "code",
   "execution_count": 13,
   "id": "9c864944",
   "metadata": {
    "execution": {
     "iopub.execute_input": "2024-08-20T04:57:13.716124Z",
     "iopub.status.busy": "2024-08-20T04:57:13.715712Z",
     "iopub.status.idle": "2024-08-20T04:57:13.736091Z",
     "shell.execute_reply": "2024-08-20T04:57:13.734947Z"
    },
    "papermill": {
     "duration": 0.039958,
     "end_time": "2024-08-20T04:57:13.738540",
     "exception": false,
     "start_time": "2024-08-20T04:57:13.698582",
     "status": "completed"
    },
    "tags": []
   },
   "outputs": [
    {
     "data": {
      "text/html": [
       "<div>\n",
       "<style scoped>\n",
       "    .dataframe tbody tr th:only-of-type {\n",
       "        vertical-align: middle;\n",
       "    }\n",
       "\n",
       "    .dataframe tbody tr th {\n",
       "        vertical-align: top;\n",
       "    }\n",
       "\n",
       "    .dataframe thead th {\n",
       "        text-align: right;\n",
       "    }\n",
       "</style>\n",
       "<table border=\"1\" class=\"dataframe\">\n",
       "  <thead>\n",
       "    <tr style=\"text-align: right;\">\n",
       "      <th></th>\n",
       "      <th>pixel1</th>\n",
       "      <th>pixel2</th>\n",
       "      <th>pixel3</th>\n",
       "      <th>pixel4</th>\n",
       "      <th>pixel5</th>\n",
       "      <th>pixel6</th>\n",
       "      <th>pixel7</th>\n",
       "      <th>pixel8</th>\n",
       "      <th>pixel9</th>\n",
       "      <th>pixel10</th>\n",
       "      <th>...</th>\n",
       "      <th>pixel775</th>\n",
       "      <th>pixel776</th>\n",
       "      <th>pixel777</th>\n",
       "      <th>pixel778</th>\n",
       "      <th>pixel779</th>\n",
       "      <th>pixel780</th>\n",
       "      <th>pixel781</th>\n",
       "      <th>pixel782</th>\n",
       "      <th>pixel783</th>\n",
       "      <th>pixel784</th>\n",
       "    </tr>\n",
       "  </thead>\n",
       "  <tbody>\n",
       "    <tr>\n",
       "      <th>0</th>\n",
       "      <td>149</td>\n",
       "      <td>149</td>\n",
       "      <td>150</td>\n",
       "      <td>150</td>\n",
       "      <td>150</td>\n",
       "      <td>151</td>\n",
       "      <td>151</td>\n",
       "      <td>150</td>\n",
       "      <td>151</td>\n",
       "      <td>152</td>\n",
       "      <td>...</td>\n",
       "      <td>138</td>\n",
       "      <td>148</td>\n",
       "      <td>127</td>\n",
       "      <td>89</td>\n",
       "      <td>82</td>\n",
       "      <td>96</td>\n",
       "      <td>106</td>\n",
       "      <td>112</td>\n",
       "      <td>120</td>\n",
       "      <td>107</td>\n",
       "    </tr>\n",
       "    <tr>\n",
       "      <th>1</th>\n",
       "      <td>126</td>\n",
       "      <td>128</td>\n",
       "      <td>131</td>\n",
       "      <td>132</td>\n",
       "      <td>133</td>\n",
       "      <td>134</td>\n",
       "      <td>135</td>\n",
       "      <td>135</td>\n",
       "      <td>136</td>\n",
       "      <td>138</td>\n",
       "      <td>...</td>\n",
       "      <td>47</td>\n",
       "      <td>104</td>\n",
       "      <td>194</td>\n",
       "      <td>183</td>\n",
       "      <td>186</td>\n",
       "      <td>184</td>\n",
       "      <td>184</td>\n",
       "      <td>184</td>\n",
       "      <td>182</td>\n",
       "      <td>180</td>\n",
       "    </tr>\n",
       "    <tr>\n",
       "      <th>2</th>\n",
       "      <td>85</td>\n",
       "      <td>88</td>\n",
       "      <td>92</td>\n",
       "      <td>96</td>\n",
       "      <td>105</td>\n",
       "      <td>123</td>\n",
       "      <td>135</td>\n",
       "      <td>143</td>\n",
       "      <td>147</td>\n",
       "      <td>152</td>\n",
       "      <td>...</td>\n",
       "      <td>68</td>\n",
       "      <td>166</td>\n",
       "      <td>242</td>\n",
       "      <td>227</td>\n",
       "      <td>230</td>\n",
       "      <td>227</td>\n",
       "      <td>226</td>\n",
       "      <td>225</td>\n",
       "      <td>224</td>\n",
       "      <td>222</td>\n",
       "    </tr>\n",
       "    <tr>\n",
       "      <th>3</th>\n",
       "      <td>203</td>\n",
       "      <td>205</td>\n",
       "      <td>207</td>\n",
       "      <td>206</td>\n",
       "      <td>207</td>\n",
       "      <td>209</td>\n",
       "      <td>210</td>\n",
       "      <td>209</td>\n",
       "      <td>210</td>\n",
       "      <td>209</td>\n",
       "      <td>...</td>\n",
       "      <td>154</td>\n",
       "      <td>248</td>\n",
       "      <td>247</td>\n",
       "      <td>248</td>\n",
       "      <td>253</td>\n",
       "      <td>236</td>\n",
       "      <td>230</td>\n",
       "      <td>240</td>\n",
       "      <td>253</td>\n",
       "      <td>255</td>\n",
       "    </tr>\n",
       "    <tr>\n",
       "      <th>4</th>\n",
       "      <td>188</td>\n",
       "      <td>191</td>\n",
       "      <td>193</td>\n",
       "      <td>195</td>\n",
       "      <td>199</td>\n",
       "      <td>201</td>\n",
       "      <td>202</td>\n",
       "      <td>203</td>\n",
       "      <td>203</td>\n",
       "      <td>203</td>\n",
       "      <td>...</td>\n",
       "      <td>26</td>\n",
       "      <td>40</td>\n",
       "      <td>64</td>\n",
       "      <td>48</td>\n",
       "      <td>29</td>\n",
       "      <td>46</td>\n",
       "      <td>49</td>\n",
       "      <td>46</td>\n",
       "      <td>46</td>\n",
       "      <td>53</td>\n",
       "    </tr>\n",
       "  </tbody>\n",
       "</table>\n",
       "<p>5 rows × 784 columns</p>\n",
       "</div>"
      ],
      "text/plain": [
       "   pixel1  pixel2  pixel3  pixel4  pixel5  pixel6  pixel7  pixel8  pixel9  \\\n",
       "0     149     149     150     150     150     151     151     150     151   \n",
       "1     126     128     131     132     133     134     135     135     136   \n",
       "2      85      88      92      96     105     123     135     143     147   \n",
       "3     203     205     207     206     207     209     210     209     210   \n",
       "4     188     191     193     195     199     201     202     203     203   \n",
       "\n",
       "   pixel10  ...  pixel775  pixel776  pixel777  pixel778  pixel779  pixel780  \\\n",
       "0      152  ...       138       148       127        89        82        96   \n",
       "1      138  ...        47       104       194       183       186       184   \n",
       "2      152  ...        68       166       242       227       230       227   \n",
       "3      209  ...       154       248       247       248       253       236   \n",
       "4      203  ...        26        40        64        48        29        46   \n",
       "\n",
       "   pixel781  pixel782  pixel783  pixel784  \n",
       "0       106       112       120       107  \n",
       "1       184       184       182       180  \n",
       "2       226       225       224       222  \n",
       "3       230       240       253       255  \n",
       "4        49        46        46        53  \n",
       "\n",
       "[5 rows x 784 columns]"
      ]
     },
     "execution_count": 13,
     "metadata": {},
     "output_type": "execute_result"
    }
   ],
   "source": [
    "x_test.head()"
   ]
  },
  {
   "cell_type": "code",
   "execution_count": 14,
   "id": "fb2ad621",
   "metadata": {
    "execution": {
     "iopub.execute_input": "2024-08-20T04:57:13.773709Z",
     "iopub.status.busy": "2024-08-20T04:57:13.773312Z",
     "iopub.status.idle": "2024-08-20T04:57:13.855255Z",
     "shell.execute_reply": "2024-08-20T04:57:13.854096Z"
    },
    "papermill": {
     "duration": 0.102754,
     "end_time": "2024-08-20T04:57:13.858032",
     "exception": false,
     "start_time": "2024-08-20T04:57:13.755278",
     "status": "completed"
    },
    "tags": []
   },
   "outputs": [],
   "source": [
    "# (1-2) numpy 배열로 변환 후, torch Tensor로 변환\n",
    "x_train = torch.tensor(x_train.values, dtype=torch.float32)\n",
    "y_train = torch.tensor(y_train.values, dtype=torch.int64)\n",
    "#y_train = y_train.type(torch.long)\n",
    "x_test = torch.tensor(x_test.values, dtype=torch.float32)"
   ]
  },
  {
   "cell_type": "code",
   "execution_count": 15,
   "id": "d0f59d51",
   "metadata": {
    "execution": {
     "iopub.execute_input": "2024-08-20T04:57:13.894063Z",
     "iopub.status.busy": "2024-08-20T04:57:13.893651Z",
     "iopub.status.idle": "2024-08-20T04:57:13.900555Z",
     "shell.execute_reply": "2024-08-20T04:57:13.899454Z"
    },
    "papermill": {
     "duration": 0.026885,
     "end_time": "2024-08-20T04:57:13.902984",
     "exception": false,
     "start_time": "2024-08-20T04:57:13.876099",
     "status": "completed"
    },
    "tags": []
   },
   "outputs": [
    {
     "data": {
      "text/plain": [
       "(torch.Size([27455, 784]), torch.Size([27455]), torch.Size([7172, 784]))"
      ]
     },
     "execution_count": 15,
     "metadata": {},
     "output_type": "execute_result"
    }
   ],
   "source": [
    "x_train.shape, y_train.shape, x_test.shape"
   ]
  },
  {
   "cell_type": "code",
   "execution_count": 16,
   "id": "c76e94b3",
   "metadata": {
    "execution": {
     "iopub.execute_input": "2024-08-20T04:57:13.937986Z",
     "iopub.status.busy": "2024-08-20T04:57:13.937084Z",
     "iopub.status.idle": "2024-08-20T04:57:13.944044Z",
     "shell.execute_reply": "2024-08-20T04:57:13.943013Z"
    },
    "papermill": {
     "duration": 0.026834,
     "end_time": "2024-08-20T04:57:13.946365",
     "exception": false,
     "start_time": "2024-08-20T04:57:13.919531",
     "status": "completed"
    },
    "tags": []
   },
   "outputs": [
    {
     "data": {
      "text/plain": [
       "(torch.float32, torch.int64, torch.float32)"
      ]
     },
     "execution_count": 16,
     "metadata": {},
     "output_type": "execute_result"
    }
   ],
   "source": [
    "x_train.dtype, y_train.dtype, x_test.dtype"
   ]
  },
  {
   "cell_type": "code",
   "execution_count": 17,
   "id": "f15ed66c",
   "metadata": {
    "execution": {
     "iopub.execute_input": "2024-08-20T04:57:13.980985Z",
     "iopub.status.busy": "2024-08-20T04:57:13.980586Z",
     "iopub.status.idle": "2024-08-20T04:57:13.987217Z",
     "shell.execute_reply": "2024-08-20T04:57:13.986182Z"
    },
    "papermill": {
     "duration": 0.026581,
     "end_time": "2024-08-20T04:57:13.989408",
     "exception": false,
     "start_time": "2024-08-20T04:57:13.962827",
     "status": "completed"
    },
    "tags": []
   },
   "outputs": [
    {
     "data": {
      "text/plain": [
       "27455"
      ]
     },
     "execution_count": 17,
     "metadata": {},
     "output_type": "execute_result"
    }
   ],
   "source": [
    "x_train.shape[0]"
   ]
  },
  {
   "cell_type": "code",
   "execution_count": 18,
   "id": "d83d36e4",
   "metadata": {
    "execution": {
     "iopub.execute_input": "2024-08-20T04:57:14.024615Z",
     "iopub.status.busy": "2024-08-20T04:57:14.024176Z",
     "iopub.status.idle": "2024-08-20T04:57:14.037381Z",
     "shell.execute_reply": "2024-08-20T04:57:14.036294Z"
    },
    "papermill": {
     "duration": 0.033593,
     "end_time": "2024-08-20T04:57:14.039822",
     "exception": false,
     "start_time": "2024-08-20T04:57:14.006229",
     "status": "completed"
    },
    "tags": []
   },
   "outputs": [
    {
     "data": {
      "text/plain": [
       "(torch.Size([27455, 28, 28, 1]), torch.Size([7172, 28, 28, 1]))"
      ]
     },
     "execution_count": 18,
     "metadata": {},
     "output_type": "execute_result"
    }
   ],
   "source": [
    "# (1-3) 데이터를 (N, H, W, C) 형태로 재구성 (reshape 함수 이용)\n",
    "# 784 = 28*28\n",
    "x_train = x_train.reshape(x_train.shape[0], 28, 28, 1)\n",
    "x_test = x_test.reshape(x_test.shape[0], 28, 28, 1)\n",
    "\n",
    "x_train.shape, x_test.shape"
   ]
  },
  {
   "cell_type": "code",
   "execution_count": 19,
   "id": "12b8b165",
   "metadata": {
    "execution": {
     "iopub.execute_input": "2024-08-20T04:57:14.131882Z",
     "iopub.status.busy": "2024-08-20T04:57:14.131522Z",
     "iopub.status.idle": "2024-08-20T04:57:14.141982Z",
     "shell.execute_reply": "2024-08-20T04:57:14.140975Z"
    },
    "papermill": {
     "duration": 0.086932,
     "end_time": "2024-08-20T04:57:14.144253",
     "exception": false,
     "start_time": "2024-08-20T04:57:14.057321",
     "status": "completed"
    },
    "tags": []
   },
   "outputs": [
    {
     "data": {
      "text/plain": [
       "(torch.Size([27455, 1, 28, 28]), torch.Size([7172, 1, 28, 28]))"
      ]
     },
     "execution_count": 19,
     "metadata": {},
     "output_type": "execute_result"
    }
   ],
   "source": [
    "# (1-4) 데이터를 (N, C, H, W) 형태로 변환 (permute 함수 이용)\n",
    "x_train = x_train.permute(0,3,1,2)\n",
    "x_test = x_test.permute(0,3,1,2)\n",
    "x_train.shape, x_test.shape"
   ]
  },
  {
   "cell_type": "code",
   "execution_count": 20,
   "id": "eca2afad",
   "metadata": {
    "execution": {
     "iopub.execute_input": "2024-08-20T04:57:14.181396Z",
     "iopub.status.busy": "2024-08-20T04:57:14.180666Z",
     "iopub.status.idle": "2024-08-20T04:57:14.190521Z",
     "shell.execute_reply": "2024-08-20T04:57:14.189452Z"
    },
    "papermill": {
     "duration": 0.031095,
     "end_time": "2024-08-20T04:57:14.192971",
     "exception": false,
     "start_time": "2024-08-20T04:57:14.161876",
     "status": "completed"
    },
    "tags": []
   },
   "outputs": [
    {
     "data": {
      "text/plain": [
       "(torch.Size([27455, 3, 28, 28]), torch.Size([7172, 3, 28, 28]))"
      ]
     },
     "execution_count": 20,
     "metadata": {},
     "output_type": "execute_result"
    }
   ],
   "source": [
    "# (1-5) 데이터를 (N, 3, 28, 28) 형태로 변환 (expand 함수 이용)\n",
    "x_train = x_train.expand(-1, 3, -1, -1)\n",
    "x_test = x_test.expand(-1, 3, -1, -1)\n",
    "x_train.shape, x_test.shape"
   ]
  },
  {
   "cell_type": "code",
   "execution_count": 21,
   "id": "a5036a61",
   "metadata": {
    "execution": {
     "iopub.execute_input": "2024-08-20T04:57:14.230022Z",
     "iopub.status.busy": "2024-08-20T04:57:14.229060Z",
     "iopub.status.idle": "2024-08-20T04:57:14.235821Z",
     "shell.execute_reply": "2024-08-20T04:57:14.234768Z"
    },
    "papermill": {
     "duration": 0.027975,
     "end_time": "2024-08-20T04:57:14.238155",
     "exception": false,
     "start_time": "2024-08-20T04:57:14.210180",
     "status": "completed"
    },
    "tags": []
   },
   "outputs": [
    {
     "data": {
      "text/plain": [
       "torch.Size([27455, 3, 28, 28])"
      ]
     },
     "execution_count": 21,
     "metadata": {},
     "output_type": "execute_result"
    }
   ],
   "source": [
    "x_train.shape"
   ]
  },
  {
   "cell_type": "code",
   "execution_count": 22,
   "id": "29f6370a",
   "metadata": {
    "execution": {
     "iopub.execute_input": "2024-08-20T04:57:14.275808Z",
     "iopub.status.busy": "2024-08-20T04:57:14.275453Z",
     "iopub.status.idle": "2024-08-20T04:57:14.282032Z",
     "shell.execute_reply": "2024-08-20T04:57:14.281086Z"
    },
    "papermill": {
     "duration": 0.028602,
     "end_time": "2024-08-20T04:57:14.284464",
     "exception": false,
     "start_time": "2024-08-20T04:57:14.255862",
     "status": "completed"
    },
    "tags": []
   },
   "outputs": [
    {
     "data": {
      "text/plain": [
       "(torch.Size([27455]), torch.int64)"
      ]
     },
     "execution_count": 22,
     "metadata": {},
     "output_type": "execute_result"
    }
   ],
   "source": [
    "y_train.shape, y_train.dtype"
   ]
  },
  {
   "cell_type": "code",
   "execution_count": 23,
   "id": "0adb848e",
   "metadata": {
    "execution": {
     "iopub.execute_input": "2024-08-20T04:57:14.321528Z",
     "iopub.status.busy": "2024-08-20T04:57:14.321105Z",
     "iopub.status.idle": "2024-08-20T04:57:14.327444Z",
     "shell.execute_reply": "2024-08-20T04:57:14.326434Z"
    },
    "papermill": {
     "duration": 0.027721,
     "end_time": "2024-08-20T04:57:14.329771",
     "exception": false,
     "start_time": "2024-08-20T04:57:14.302050",
     "status": "completed"
    },
    "tags": []
   },
   "outputs": [
    {
     "data": {
      "text/plain": [
       "torch.Size([7172, 3, 28, 28])"
      ]
     },
     "execution_count": 23,
     "metadata": {},
     "output_type": "execute_result"
    }
   ],
   "source": [
    "x_test.shape"
   ]
  },
  {
   "cell_type": "markdown",
   "id": "4c8e163a",
   "metadata": {
    "papermill": {
     "duration": 0.017829,
     "end_time": "2024-08-20T04:57:14.365691",
     "exception": false,
     "start_time": "2024-08-20T04:57:14.347862",
     "status": "completed"
    },
    "tags": []
   },
   "source": [
    "## **(2) 데이터셋과 데이터로더**"
   ]
  },
  {
   "cell_type": "code",
   "execution_count": 24,
   "id": "54714dbe",
   "metadata": {
    "execution": {
     "iopub.execute_input": "2024-08-20T04:57:14.403493Z",
     "iopub.status.busy": "2024-08-20T04:57:14.403112Z",
     "iopub.status.idle": "2024-08-20T04:57:14.409350Z",
     "shell.execute_reply": "2024-08-20T04:57:14.408160Z"
    },
    "papermill": {
     "duration": 0.027992,
     "end_time": "2024-08-20T04:57:14.411645",
     "exception": false,
     "start_time": "2024-08-20T04:57:14.383653",
     "status": "completed"
    },
    "tags": []
   },
   "outputs": [],
   "source": [
    "# 훈련 및 테스트 데이터셋 로드\n",
    "train_dataset = TensorDataset(x_train, y_train)\n",
    "test_dataset = TensorDataset(x_test)\n",
    "\n",
    "# 데이터로더 정의\n",
    "train_dataloader = torch.utils.data.DataLoader(train_dataset, batch_size=args[\"batch_size\"], shuffle=True)\n",
    "test_dataloader = torch.utils.data.DataLoader(test_dataset, batch_size=1, shuffle=False)"
   ]
  },
  {
   "cell_type": "code",
   "execution_count": 25,
   "id": "b1d41ca5",
   "metadata": {
    "execution": {
     "iopub.execute_input": "2024-08-20T04:57:14.449661Z",
     "iopub.status.busy": "2024-08-20T04:57:14.449275Z",
     "iopub.status.idle": "2024-08-20T04:57:14.481774Z",
     "shell.execute_reply": "2024-08-20T04:57:14.480561Z"
    },
    "papermill": {
     "duration": 0.05472,
     "end_time": "2024-08-20T04:57:14.484378",
     "exception": false,
     "start_time": "2024-08-20T04:57:14.429658",
     "status": "completed"
    },
    "tags": []
   },
   "outputs": [
    {
     "name": "stdout",
     "output_type": "stream",
     "text": [
      "torch.Size([1, 3, 28, 28])\n"
     ]
    }
   ],
   "source": [
    "for sample in test_dataloader:\n",
    "    print(sample[0].shape)\n",
    "    break\n",
    "    "
   ]
  },
  {
   "cell_type": "markdown",
   "id": "84feab2f",
   "metadata": {
    "papermill": {
     "duration": 0.019678,
     "end_time": "2024-08-20T04:57:14.522267",
     "exception": false,
     "start_time": "2024-08-20T04:57:14.502589",
     "status": "completed"
    },
    "tags": []
   },
   "source": [
    "# **2. 모델**\n",
    "사전학습된 VGG16을 사용하여 프로젝트를 수행하세요."
   ]
  },
  {
   "cell_type": "markdown",
   "id": "3ad7889e",
   "metadata": {
    "papermill": {
     "duration": 0.017806,
     "end_time": "2024-08-20T04:57:14.557903",
     "exception": false,
     "start_time": "2024-08-20T04:57:14.540097",
     "status": "completed"
    },
    "tags": []
   },
   "source": [
    "## **(1) VGG16 특징 추출기를 불러오기**"
   ]
  },
  {
   "cell_type": "code",
   "execution_count": 26,
   "id": "a7248f18",
   "metadata": {
    "execution": {
     "iopub.execute_input": "2024-08-20T04:57:14.596361Z",
     "iopub.status.busy": "2024-08-20T04:57:14.595965Z",
     "iopub.status.idle": "2024-08-20T04:57:21.272385Z",
     "shell.execute_reply": "2024-08-20T04:57:21.271275Z"
    },
    "papermill": {
     "duration": 6.698432,
     "end_time": "2024-08-20T04:57:21.274941",
     "exception": false,
     "start_time": "2024-08-20T04:57:14.576509",
     "status": "completed"
    },
    "tags": []
   },
   "outputs": [
    {
     "name": "stderr",
     "output_type": "stream",
     "text": [
      "Downloading: \"https://download.pytorch.org/models/vgg16-397923af.pth\" to /root/.cache/torch/hub/checkpoints/vgg16-397923af.pth\n",
      "100%|██████████| 528M/528M [00:03<00:00, 140MB/s]\n"
     ]
    },
    {
     "name": "stdout",
     "output_type": "stream",
     "text": [
      "----------------------------------------------------------------\n",
      "        Layer (type)               Output Shape         Param #\n",
      "================================================================\n",
      "            Conv2d-1           [-1, 64, 32, 32]           1,792\n",
      "              ReLU-2           [-1, 64, 32, 32]               0\n",
      "            Conv2d-3           [-1, 64, 32, 32]          36,928\n",
      "              ReLU-4           [-1, 64, 32, 32]               0\n",
      "         MaxPool2d-5           [-1, 64, 16, 16]               0\n",
      "            Conv2d-6          [-1, 128, 16, 16]          73,856\n",
      "              ReLU-7          [-1, 128, 16, 16]               0\n",
      "            Conv2d-8          [-1, 128, 16, 16]         147,584\n",
      "              ReLU-9          [-1, 128, 16, 16]               0\n",
      "        MaxPool2d-10            [-1, 128, 8, 8]               0\n",
      "           Conv2d-11            [-1, 256, 8, 8]         295,168\n",
      "             ReLU-12            [-1, 256, 8, 8]               0\n",
      "           Conv2d-13            [-1, 256, 8, 8]         590,080\n",
      "             ReLU-14            [-1, 256, 8, 8]               0\n",
      "           Conv2d-15            [-1, 256, 8, 8]         590,080\n",
      "             ReLU-16            [-1, 256, 8, 8]               0\n",
      "        MaxPool2d-17            [-1, 256, 4, 4]               0\n",
      "           Conv2d-18            [-1, 512, 4, 4]       1,180,160\n",
      "             ReLU-19            [-1, 512, 4, 4]               0\n",
      "           Conv2d-20            [-1, 512, 4, 4]       2,359,808\n",
      "             ReLU-21            [-1, 512, 4, 4]               0\n",
      "           Conv2d-22            [-1, 512, 4, 4]       2,359,808\n",
      "             ReLU-23            [-1, 512, 4, 4]               0\n",
      "        MaxPool2d-24            [-1, 512, 2, 2]               0\n",
      "           Conv2d-25            [-1, 512, 2, 2]       2,359,808\n",
      "             ReLU-26            [-1, 512, 2, 2]               0\n",
      "           Conv2d-27            [-1, 512, 2, 2]       2,359,808\n",
      "             ReLU-28            [-1, 512, 2, 2]               0\n",
      "           Conv2d-29            [-1, 512, 2, 2]       2,359,808\n",
      "             ReLU-30            [-1, 512, 2, 2]               0\n",
      "        MaxPool2d-31            [-1, 512, 1, 1]               0\n",
      "        AvgPool2d-32            [-1, 512, 1, 1]               0\n",
      "================================================================\n",
      "Total params: 14,714,688\n",
      "Trainable params: 14,714,688\n",
      "Non-trainable params: 0\n",
      "----------------------------------------------------------------\n",
      "Input size (MB): 0.01\n",
      "Forward/backward pass size (MB): 4.46\n",
      "Params size (MB): 56.13\n",
      "Estimated Total Size (MB): 60.60\n",
      "----------------------------------------------------------------\n"
     ]
    }
   ],
   "source": [
    "# (3-1) VGG16 모델 로드 및 특징 추출 부분 사용\n",
    "# 가중치는 'VGG16_Weights.IMAGENET1K_V1' 사용하세요.\n",
    "model = torchvision.models.vgg16(weights=VGG16_Weights.IMAGENET1K_V1).features\n",
    "\n",
    "# (3-2) 모델에 글로벌 평균 풀링 계층 추가\n",
    "# global avg pooling 의 경우, 최종 층에 사용하는 pooling으로 각층의 모든 feature를 1*1의 출력으로 만든다. 따라서 kernel_size는 input과 동일해야 한다.\n",
    "# 기존 vgg16 마지막 출력이 1*1 사이즈이므로, 이 경우, kernel_size는 1이 되어야 한다. \n",
    "model.global_avg_pool2d = nn.AvgPool2d(kernel_size=1)\n",
    "\n",
    "# 모델 요약 정보 출력\n",
    "summary_model(model)"
   ]
  },
  {
   "cell_type": "markdown",
   "id": "940ec48a",
   "metadata": {
    "papermill": {
     "duration": 0.021656,
     "end_time": "2024-08-20T04:57:21.318793",
     "exception": false,
     "start_time": "2024-08-20T04:57:21.297137",
     "status": "completed"
    },
    "tags": []
   },
   "source": [
    "## **(2) VGG16 특징 추출기를 동결시키기**\n",
    "1. 계산 비용 절감:\n",
    "    - 모델의 일부 파라미터를 동결하면 그 부분은 학습되지 않기 때문에 계산량이 줄어듭니다. \n",
    "\n",
    "    - 이는 학습 속도를 빠르게 하고, GPU 메모리 사용량을 줄이는 데 도움이 됩니다.\n",
    "\n",
    "2. 오버피팅 방지:\n",
    "    - 작은 데이터셋을 사용할 때 모델이 쉽게 오버피팅될 수 있습니다. \n",
    "    \n",
    "    - 이미 학습된 파라미터를 동결하면 모델이 새로운 데이터에 맞춰 과도하게 학습되는 것을 방지할 수 있습니다.\n",
    "\n",
    "\n",
    "3. 전이 학습(Transfer Learning):\n",
    "    - 사전 학습된 모델(예: ImageNet 데이터셋으로 학습된 모델)의 초반 레이어는 일반적인 특징(예: 에지, 텍스처 등)을 잘 잡아냅니다. \n",
    "\n",
    "    - 이러한 특징을 이용하면 새로운 데이터셋에서도 좋은 성능을 낼 수 있습니다. \n",
    "\n",
    "    - 모델의 후반 레이어만 재학습하여 새로운 데이터셋에 맞출 수 있습니다.\n",
    "\n",
    "4. 더 빠른 수렴:\n",
    "    - 동결된 파라미터는 변화하지 않으므로 모델이 더 빠르게 수렴할 수 있습니다. \n",
    "    \n",
    "    - 이는 전체 학습 시간을 단축시키는 데 도움이 됩니다."
   ]
  },
  {
   "cell_type": "code",
   "execution_count": 27,
   "id": "637c228a",
   "metadata": {
    "execution": {
     "iopub.execute_input": "2024-08-20T04:57:21.364698Z",
     "iopub.status.busy": "2024-08-20T04:57:21.364289Z",
     "iopub.status.idle": "2024-08-20T04:57:21.379479Z",
     "shell.execute_reply": "2024-08-20T04:57:21.377351Z"
    },
    "papermill": {
     "duration": 0.041114,
     "end_time": "2024-08-20T04:57:21.382037",
     "exception": false,
     "start_time": "2024-08-20T04:57:21.340923",
     "status": "completed"
    },
    "tags": []
   },
   "outputs": [
    {
     "name": "stdout",
     "output_type": "stream",
     "text": [
      "----------------------------------------------------------------\n",
      "        Layer (type)               Output Shape         Param #\n",
      "================================================================\n",
      "            Conv2d-1           [-1, 64, 32, 32]           1,792\n",
      "              ReLU-2           [-1, 64, 32, 32]               0\n",
      "            Conv2d-3           [-1, 64, 32, 32]          36,928\n",
      "              ReLU-4           [-1, 64, 32, 32]               0\n",
      "         MaxPool2d-5           [-1, 64, 16, 16]               0\n",
      "            Conv2d-6          [-1, 128, 16, 16]          73,856\n",
      "              ReLU-7          [-1, 128, 16, 16]               0\n",
      "            Conv2d-8          [-1, 128, 16, 16]         147,584\n",
      "              ReLU-9          [-1, 128, 16, 16]               0\n",
      "        MaxPool2d-10            [-1, 128, 8, 8]               0\n",
      "           Conv2d-11            [-1, 256, 8, 8]         295,168\n",
      "             ReLU-12            [-1, 256, 8, 8]               0\n",
      "           Conv2d-13            [-1, 256, 8, 8]         590,080\n",
      "             ReLU-14            [-1, 256, 8, 8]               0\n",
      "           Conv2d-15            [-1, 256, 8, 8]         590,080\n",
      "             ReLU-16            [-1, 256, 8, 8]               0\n",
      "        MaxPool2d-17            [-1, 256, 4, 4]               0\n",
      "           Conv2d-18            [-1, 512, 4, 4]       1,180,160\n",
      "             ReLU-19            [-1, 512, 4, 4]               0\n",
      "           Conv2d-20            [-1, 512, 4, 4]       2,359,808\n",
      "             ReLU-21            [-1, 512, 4, 4]               0\n",
      "           Conv2d-22            [-1, 512, 4, 4]       2,359,808\n",
      "             ReLU-23            [-1, 512, 4, 4]               0\n",
      "        MaxPool2d-24            [-1, 512, 2, 2]               0\n",
      "           Conv2d-25            [-1, 512, 2, 2]       2,359,808\n",
      "             ReLU-26            [-1, 512, 2, 2]               0\n",
      "           Conv2d-27            [-1, 512, 2, 2]       2,359,808\n",
      "             ReLU-28            [-1, 512, 2, 2]               0\n",
      "           Conv2d-29            [-1, 512, 2, 2]       2,359,808\n",
      "             ReLU-30            [-1, 512, 2, 2]               0\n",
      "        MaxPool2d-31            [-1, 512, 1, 1]               0\n",
      "        AvgPool2d-32            [-1, 512, 1, 1]               0\n",
      "================================================================\n",
      "Total params: 14,714,688\n",
      "Trainable params: 14,714,688\n",
      "Non-trainable params: 0\n",
      "----------------------------------------------------------------\n",
      "Input size (MB): 0.01\n",
      "Forward/backward pass size (MB): 4.46\n",
      "Params size (MB): 56.13\n",
      "Estimated Total Size (MB): 60.60\n",
      "----------------------------------------------------------------\n"
     ]
    }
   ],
   "source": [
    "# 모델의 앞부분 파라미터 고정 (동결) -> 동결하지 않고 다 사용.\n",
    "\"\"\"\n",
    "for para in model[:-30].parameters(): \n",
    "    para.requires_grad = False\n",
    "\"\"\"\n",
    "\n",
    "\n",
    "# 파라미터 동결 후 모델 요약 정보 출력\n",
    "summary_model(model)"
   ]
  },
  {
   "cell_type": "markdown",
   "id": "9c6a7625",
   "metadata": {
    "papermill": {
     "duration": 0.022411,
     "end_time": "2024-08-20T04:57:21.427235",
     "exception": false,
     "start_time": "2024-08-20T04:57:21.404824",
     "status": "completed"
    },
    "tags": []
   },
   "source": [
    "## **(3) VGG16 분류기를 만들기**"
   ]
  },
  {
   "cell_type": "code",
   "execution_count": 28,
   "id": "e0483b4a",
   "metadata": {
    "execution": {
     "iopub.execute_input": "2024-08-20T04:57:21.474750Z",
     "iopub.status.busy": "2024-08-20T04:57:21.474369Z",
     "iopub.status.idle": "2024-08-20T04:57:21.565502Z",
     "shell.execute_reply": "2024-08-20T04:57:21.563992Z"
    },
    "papermill": {
     "duration": 0.118402,
     "end_time": "2024-08-20T04:57:21.568528",
     "exception": false,
     "start_time": "2024-08-20T04:57:21.450126",
     "status": "completed"
    },
    "tags": []
   },
   "outputs": [
    {
     "name": "stdout",
     "output_type": "stream",
     "text": [
      "----------------------------------------------------------------\n",
      "        Layer (type)               Output Shape         Param #\n",
      "================================================================\n",
      "            Conv2d-1           [-1, 64, 32, 32]           1,792\n",
      "              ReLU-2           [-1, 64, 32, 32]               0\n",
      "            Conv2d-3           [-1, 64, 32, 32]          36,928\n",
      "              ReLU-4           [-1, 64, 32, 32]               0\n",
      "         MaxPool2d-5           [-1, 64, 16, 16]               0\n",
      "            Conv2d-6          [-1, 128, 16, 16]          73,856\n",
      "              ReLU-7          [-1, 128, 16, 16]               0\n",
      "            Conv2d-8          [-1, 128, 16, 16]         147,584\n",
      "              ReLU-9          [-1, 128, 16, 16]               0\n",
      "        MaxPool2d-10            [-1, 128, 8, 8]               0\n",
      "           Conv2d-11            [-1, 256, 8, 8]         295,168\n",
      "             ReLU-12            [-1, 256, 8, 8]               0\n",
      "           Conv2d-13            [-1, 256, 8, 8]         590,080\n",
      "             ReLU-14            [-1, 256, 8, 8]               0\n",
      "           Conv2d-15            [-1, 256, 8, 8]         590,080\n",
      "             ReLU-16            [-1, 256, 8, 8]               0\n",
      "        MaxPool2d-17            [-1, 256, 4, 4]               0\n",
      "           Conv2d-18            [-1, 512, 4, 4]       1,180,160\n",
      "             ReLU-19            [-1, 512, 4, 4]               0\n",
      "           Conv2d-20            [-1, 512, 4, 4]       2,359,808\n",
      "             ReLU-21            [-1, 512, 4, 4]               0\n",
      "           Conv2d-22            [-1, 512, 4, 4]       2,359,808\n",
      "             ReLU-23            [-1, 512, 4, 4]               0\n",
      "        MaxPool2d-24            [-1, 512, 2, 2]               0\n",
      "           Conv2d-25            [-1, 512, 2, 2]       2,359,808\n",
      "             ReLU-26            [-1, 512, 2, 2]               0\n",
      "           Conv2d-27            [-1, 512, 2, 2]       2,359,808\n",
      "             ReLU-28            [-1, 512, 2, 2]               0\n",
      "           Conv2d-29            [-1, 512, 2, 2]       2,359,808\n",
      "             ReLU-30            [-1, 512, 2, 2]               0\n",
      "        MaxPool2d-31            [-1, 512, 1, 1]               0\n",
      "        AvgPool2d-32            [-1, 512, 1, 1]               0\n",
      "          Flatten-33                  [-1, 512]               0\n",
      "           Linear-34                   [-1, 64]          32,832\n",
      "      BatchNorm1d-35                   [-1, 64]             128\n",
      "          Dropout-36                   [-1, 64]               0\n",
      "           Linear-37                   [-1, 32]           2,080\n",
      "      BatchNorm1d-38                   [-1, 32]              64\n",
      "          Dropout-39                   [-1, 32]               0\n",
      "           Linear-40                   [-1, 25]             825\n",
      "================================================================\n",
      "Total params: 14,750,617\n",
      "Trainable params: 14,750,617\n",
      "Non-trainable params: 0\n",
      "----------------------------------------------------------------\n",
      "Input size (MB): 0.01\n",
      "Forward/backward pass size (MB): 4.47\n",
      "Params size (MB): 56.27\n",
      "Estimated Total Size (MB): 60.75\n",
      "----------------------------------------------------------------\n"
     ]
    }
   ],
   "source": [
    "# (4-1) 새로운 분류기 정의\n",
    "classifier = nn.Sequential(\n",
    "    # 25개의 클래스로 분류\n",
    "    nn.Flatten(start_dim=1, end_dim=-1),\n",
    "    nn.Linear(512, 64), # feature extractor의 최종 output이 (N, 512, 1, 1)이므로\n",
    "    nn.BatchNorm1d(64), #배치 정규화, 학습 안정\n",
    "    #nn.ReLU(),\n",
    "    nn.Dropout(0.5),    #dropout -> overfitting 방지\n",
    "    nn.Linear(64, 32), # feature extractor의 최종 output이 (N, 512, 1, 1)이므로\n",
    "    nn.BatchNorm1d(32), #배치 정규화, 학습 안정\n",
    "    #nn.ReLU(),\n",
    "    nn.Dropout(0.3),    #dropout -> overfitting 방지\n",
    "    nn.Linear(32, 25)   #최종 분류 클래스 개수로\n",
    ")\n",
    "\n",
    "\n",
    "# (4-2) 모델에 새로운 분류기 추가\n",
    "model.classifier = classifier\n",
    "\n",
    "\n",
    "# 모델을 장치로 이동\n",
    "model = model.to(device)\n",
    "\n",
    "# 최종 모델 요약 정보 출력\n",
    "summary_model(model)"
   ]
  },
  {
   "cell_type": "markdown",
   "id": "3756e34d",
   "metadata": {
    "papermill": {
     "duration": 0.022374,
     "end_time": "2024-08-20T04:57:21.612924",
     "exception": false,
     "start_time": "2024-08-20T04:57:21.590550",
     "status": "completed"
    },
    "tags": []
   },
   "source": [
    "# **3. 학습**"
   ]
  },
  {
   "cell_type": "code",
   "execution_count": 29,
   "id": "fc7c06fe",
   "metadata": {
    "execution": {
     "iopub.execute_input": "2024-08-20T04:57:21.659696Z",
     "iopub.status.busy": "2024-08-20T04:57:21.658918Z",
     "iopub.status.idle": "2024-08-20T04:57:21.664895Z",
     "shell.execute_reply": "2024-08-20T04:57:21.663885Z"
    },
    "papermill": {
     "duration": 0.032727,
     "end_time": "2024-08-20T04:57:21.668006",
     "exception": false,
     "start_time": "2024-08-20T04:57:21.635279",
     "status": "completed"
    },
    "tags": []
   },
   "outputs": [
    {
     "name": "stdout",
     "output_type": "stream",
     "text": [
      "ImageClassification(\n",
      "    crop_size=[32]\n",
      "    resize_size=[32]\n",
      "    mean=[0.485, 0.456, 0.406]\n",
      "    std=[0.229, 0.224, 0.225]\n",
      "    interpolation=InterpolationMode.BILINEAR\n",
      ")\n"
     ]
    }
   ],
   "source": [
    "# VGG16에서 사용한 transform을 이용\n",
    "transform = VGG16_Weights.DEFAULT.transforms(antialias=False)\n",
    "\n",
    "# resize 크기는 32가 되도록 설정\n",
    "transform.resize_size=[32]\n",
    "transform.crop_size=[32]\n",
    "\n",
    "# transform 확인하기\n",
    "print(transform)"
   ]
  },
  {
   "cell_type": "code",
   "execution_count": 30,
   "id": "59b563a5",
   "metadata": {
    "execution": {
     "iopub.execute_input": "2024-08-20T04:57:21.715299Z",
     "iopub.status.busy": "2024-08-20T04:57:21.714901Z",
     "iopub.status.idle": "2024-08-20T05:01:55.757869Z",
     "shell.execute_reply": "2024-08-20T05:01:55.757055Z"
    },
    "papermill": {
     "duration": 274.069698,
     "end_time": "2024-08-20T05:01:55.760717",
     "exception": false,
     "start_time": "2024-08-20T04:57:21.691019",
     "status": "completed"
    },
    "tags": []
   },
   "outputs": [
    {
     "name": "stdout",
     "output_type": "stream",
     "text": [
      "Epoch 1/30\n"
     ]
    },
    {
     "name": "stderr",
     "output_type": "stream",
     "text": [
      "100%|██████████| 215/215 [00:09<00:00, 22.93it/s]\n"
     ]
    },
    {
     "name": "stdout",
     "output_type": "stream",
     "text": [
      "CheckPoint : model_state_dict_epoch_1.pth\n",
      "train_loss : 1.411295058006464, train_acc : 0.8385537790697675\n",
      "\n",
      "Epoch 2/30\n"
     ]
    },
    {
     "name": "stderr",
     "output_type": "stream",
     "text": [
      "100%|██████████| 215/215 [00:08<00:00, 24.23it/s]\n"
     ]
    },
    {
     "name": "stdout",
     "output_type": "stream",
     "text": [
      "CheckPoint : model_state_dict_epoch_2.pth\n",
      "train_loss : 0.6718108853628469, train_acc : 0.997093023255814\n",
      "\n",
      "Epoch 3/30\n"
     ]
    },
    {
     "name": "stderr",
     "output_type": "stream",
     "text": [
      "100%|██████████| 215/215 [00:08<00:00, 24.50it/s]\n"
     ]
    },
    {
     "name": "stdout",
     "output_type": "stream",
     "text": [
      "CheckPoint : model_state_dict_epoch_3.pth\n",
      "train_loss : 0.43721043689306394, train_acc : 0.9990915697674418\n",
      "\n",
      "Epoch 4/30\n"
     ]
    },
    {
     "name": "stderr",
     "output_type": "stream",
     "text": [
      "100%|██████████| 215/215 [00:08<00:00, 24.56it/s]\n"
     ]
    },
    {
     "name": "stdout",
     "output_type": "stream",
     "text": [
      "CheckPoint : model_state_dict_epoch_4.pth\n",
      "train_loss : 0.29848137393940327, train_acc : 0.9993459302325581\n",
      "\n",
      "Epoch 5/30\n"
     ]
    },
    {
     "name": "stderr",
     "output_type": "stream",
     "text": [
      "100%|██████████| 215/215 [00:08<00:00, 24.50it/s]\n"
     ]
    },
    {
     "name": "stdout",
     "output_type": "stream",
     "text": [
      "CheckPoint : model_state_dict_epoch_5.pth\n",
      "train_loss : 0.21198014194189116, train_acc : 0.9996002906976744\n",
      "\n",
      "Epoch 6/30\n"
     ]
    },
    {
     "name": "stderr",
     "output_type": "stream",
     "text": [
      "100%|██████████| 215/215 [00:08<00:00, 24.29it/s]\n"
     ]
    },
    {
     "name": "stdout",
     "output_type": "stream",
     "text": [
      "CheckPoint : model_state_dict_epoch_6.pth\n",
      "train_loss : 0.1598605731198954, train_acc : 0.9994912790697674\n",
      "\n",
      "Epoch 7/30\n"
     ]
    },
    {
     "name": "stderr",
     "output_type": "stream",
     "text": [
      "100%|██████████| 215/215 [00:08<00:00, 24.49it/s]\n"
     ]
    },
    {
     "name": "stdout",
     "output_type": "stream",
     "text": [
      "CheckPoint : model_state_dict_epoch_7.pth\n",
      "train_loss : 0.12583802002806996, train_acc : 0.999781976744186\n",
      "\n",
      "Epoch 8/30\n"
     ]
    },
    {
     "name": "stderr",
     "output_type": "stream",
     "text": [
      "100%|██████████| 215/215 [00:08<00:00, 24.55it/s]\n"
     ]
    },
    {
     "name": "stdout",
     "output_type": "stream",
     "text": [
      "CheckPoint : model_state_dict_epoch_8.pth\n",
      "train_loss : 0.09879784064237461, train_acc : 0.9996366279069767\n",
      "\n",
      "Epoch 9/30\n"
     ]
    },
    {
     "name": "stderr",
     "output_type": "stream",
     "text": [
      "100%|██████████| 215/215 [00:08<00:00, 24.19it/s]\n"
     ]
    },
    {
     "name": "stdout",
     "output_type": "stream",
     "text": [
      "CheckPoint : model_state_dict_epoch_9.pth\n",
      "train_loss : 0.11162129120771275, train_acc : 0.9924418604651163\n",
      "\n",
      "Epoch 10/30\n"
     ]
    },
    {
     "name": "stderr",
     "output_type": "stream",
     "text": [
      "100%|██████████| 215/215 [00:08<00:00, 24.56it/s]\n"
     ]
    },
    {
     "name": "stdout",
     "output_type": "stream",
     "text": [
      "CheckPoint : model_state_dict_epoch_10.pth\n",
      "train_loss : 0.07375012092119039, train_acc : 0.9988008720930233\n",
      "\n",
      "Epoch 11/30\n"
     ]
    },
    {
     "name": "stderr",
     "output_type": "stream",
     "text": [
      "100%|██████████| 215/215 [00:08<00:00, 24.56it/s]\n"
     ]
    },
    {
     "name": "stdout",
     "output_type": "stream",
     "text": [
      "CheckPoint : model_state_dict_epoch_11.pth\n",
      "train_loss : 0.05563717403037603, train_acc : 0.999781976744186\n",
      "\n",
      "Epoch 12/30\n"
     ]
    },
    {
     "name": "stderr",
     "output_type": "stream",
     "text": [
      "100%|██████████| 215/215 [00:08<00:00, 24.52it/s]\n"
     ]
    },
    {
     "name": "stdout",
     "output_type": "stream",
     "text": [
      "CheckPoint : model_state_dict_epoch_12.pth\n",
      "train_loss : 0.04760015467398388, train_acc : 0.999781976744186\n",
      "\n",
      "Epoch 13/30\n"
     ]
    },
    {
     "name": "stderr",
     "output_type": "stream",
     "text": [
      "100%|██████████| 215/215 [00:08<00:00, 24.30it/s]\n"
     ]
    },
    {
     "name": "stdout",
     "output_type": "stream",
     "text": [
      "CheckPoint : model_state_dict_epoch_13.pth\n",
      "train_loss : 0.04004815198307814, train_acc : 0.9997093023255814\n",
      "\n",
      "Epoch 14/30\n"
     ]
    },
    {
     "name": "stderr",
     "output_type": "stream",
     "text": [
      "100%|██████████| 215/215 [00:08<00:00, 24.44it/s]\n"
     ]
    },
    {
     "name": "stdout",
     "output_type": "stream",
     "text": [
      "CheckPoint : model_state_dict_epoch_14.pth\n",
      "train_loss : 0.035104777698600015, train_acc : 0.9999273255813953\n",
      "\n",
      "Epoch 15/30\n"
     ]
    },
    {
     "name": "stderr",
     "output_type": "stream",
     "text": [
      "100%|██████████| 215/215 [00:08<00:00, 24.43it/s]\n"
     ]
    },
    {
     "name": "stdout",
     "output_type": "stream",
     "text": [
      "CheckPoint : model_state_dict_epoch_15.pth\n",
      "train_loss : 0.03079309268572996, train_acc : 0.9999273255813953\n",
      "\n",
      "Epoch 16/30\n"
     ]
    },
    {
     "name": "stderr",
     "output_type": "stream",
     "text": [
      "100%|██████████| 215/215 [00:08<00:00, 24.36it/s]\n"
     ]
    },
    {
     "name": "stdout",
     "output_type": "stream",
     "text": [
      "CheckPoint : model_state_dict_epoch_16.pth\n",
      "train_loss : 0.026907013607926147, train_acc : 0.999890988372093\n",
      "\n",
      "Epoch 17/30\n"
     ]
    },
    {
     "name": "stderr",
     "output_type": "stream",
     "text": [
      "100%|██████████| 215/215 [00:08<00:00, 24.62it/s]\n"
     ]
    },
    {
     "name": "stdout",
     "output_type": "stream",
     "text": [
      "CheckPoint : model_state_dict_epoch_17.pth\n",
      "train_loss : 0.02387329089173744, train_acc : 0.9998183139534884\n",
      "\n",
      "Epoch 18/30\n"
     ]
    },
    {
     "name": "stderr",
     "output_type": "stream",
     "text": [
      "100%|██████████| 215/215 [00:08<00:00, 24.61it/s]\n"
     ]
    },
    {
     "name": "stdout",
     "output_type": "stream",
     "text": [
      "CheckPoint : model_state_dict_epoch_18.pth\n",
      "train_loss : 0.020843323632035143, train_acc : 0.9999636627906977\n",
      "\n",
      "Epoch 19/30\n"
     ]
    },
    {
     "name": "stderr",
     "output_type": "stream",
     "text": [
      "100%|██████████| 215/215 [00:08<00:00, 24.41it/s]\n"
     ]
    },
    {
     "name": "stdout",
     "output_type": "stream",
     "text": [
      "CheckPoint : model_state_dict_epoch_19.pth\n",
      "train_loss : 0.018629371305537778, train_acc : 0.9997456395348837\n",
      "\n",
      "Epoch 20/30\n"
     ]
    },
    {
     "name": "stderr",
     "output_type": "stream",
     "text": [
      "100%|██████████| 215/215 [00:08<00:00, 24.38it/s]\n"
     ]
    },
    {
     "name": "stdout",
     "output_type": "stream",
     "text": [
      "CheckPoint : model_state_dict_epoch_20.pth\n",
      "train_loss : 0.016388451767175696, train_acc : 0.9999636627906977\n",
      "\n",
      "Epoch 21/30\n"
     ]
    },
    {
     "name": "stderr",
     "output_type": "stream",
     "text": [
      "100%|██████████| 215/215 [00:08<00:00, 24.49it/s]\n"
     ]
    },
    {
     "name": "stdout",
     "output_type": "stream",
     "text": [
      "CheckPoint : model_state_dict_epoch_21.pth\n",
      "train_loss : 0.015568173440649759, train_acc : 0.9998183139534884\n",
      "\n",
      "Epoch 22/30\n"
     ]
    },
    {
     "name": "stderr",
     "output_type": "stream",
     "text": [
      "100%|██████████| 215/215 [00:08<00:00, 24.59it/s]\n"
     ]
    },
    {
     "name": "stdout",
     "output_type": "stream",
     "text": [
      "CheckPoint : model_state_dict_epoch_22.pth\n",
      "train_loss : 0.013746893427572971, train_acc : 0.9998546511627907\n",
      "\n",
      "Epoch 23/30\n"
     ]
    },
    {
     "name": "stderr",
     "output_type": "stream",
     "text": [
      "100%|██████████| 215/215 [00:08<00:00, 24.38it/s]\n"
     ]
    },
    {
     "name": "stdout",
     "output_type": "stream",
     "text": [
      "CheckPoint : model_state_dict_epoch_23.pth\n",
      "train_loss : 0.012697926328279251, train_acc : 0.999890988372093\n",
      "\n",
      "Epoch 24/30\n"
     ]
    },
    {
     "name": "stderr",
     "output_type": "stream",
     "text": [
      "100%|██████████| 215/215 [00:08<00:00, 24.44it/s]\n"
     ]
    },
    {
     "name": "stdout",
     "output_type": "stream",
     "text": [
      "CheckPoint : model_state_dict_epoch_24.pth\n",
      "train_loss : 0.011156891019971565, train_acc : 0.9998546511627907\n",
      "\n",
      "Epoch 25/30\n"
     ]
    },
    {
     "name": "stderr",
     "output_type": "stream",
     "text": [
      "100%|██████████| 215/215 [00:08<00:00, 24.49it/s]\n"
     ]
    },
    {
     "name": "stdout",
     "output_type": "stream",
     "text": [
      "CheckPoint : model_state_dict_epoch_25.pth\n",
      "train_loss : 0.009936314121668422, train_acc : 0.9998183139534884\n",
      "\n",
      "Epoch 26/30\n"
     ]
    },
    {
     "name": "stderr",
     "output_type": "stream",
     "text": [
      "100%|██████████| 215/215 [00:08<00:00, 24.38it/s]\n"
     ]
    },
    {
     "name": "stdout",
     "output_type": "stream",
     "text": [
      "CheckPoint : model_state_dict_epoch_26.pth\n",
      "train_loss : 0.009382921108586151, train_acc : 0.9999636627906977\n",
      "\n",
      "Epoch 27/30\n"
     ]
    },
    {
     "name": "stderr",
     "output_type": "stream",
     "text": [
      "100%|██████████| 215/215 [00:08<00:00, 24.30it/s]\n"
     ]
    },
    {
     "name": "stdout",
     "output_type": "stream",
     "text": [
      "CheckPoint : model_state_dict_epoch_27.pth\n",
      "train_loss : 0.00880950165067821, train_acc : 0.999781976744186\n",
      "\n",
      "Epoch 28/30\n"
     ]
    },
    {
     "name": "stderr",
     "output_type": "stream",
     "text": [
      "100%|██████████| 215/215 [00:08<00:00, 24.59it/s]\n"
     ]
    },
    {
     "name": "stdout",
     "output_type": "stream",
     "text": [
      "CheckPoint : model_state_dict_epoch_28.pth\n",
      "train_loss : 0.007658214459932128, train_acc : 0.999890988372093\n",
      "\n",
      "Epoch 29/30\n"
     ]
    },
    {
     "name": "stderr",
     "output_type": "stream",
     "text": [
      "100%|██████████| 215/215 [00:08<00:00, 24.53it/s]\n"
     ]
    },
    {
     "name": "stdout",
     "output_type": "stream",
     "text": [
      "CheckPoint : model_state_dict_epoch_29.pth\n",
      "train_loss : 0.006890996138370314, train_acc : 0.9999636627906977\n",
      "\n",
      "Epoch 30/30\n"
     ]
    },
    {
     "name": "stderr",
     "output_type": "stream",
     "text": [
      "100%|██████████| 215/215 [00:08<00:00, 24.36it/s]\n"
     ]
    },
    {
     "name": "stdout",
     "output_type": "stream",
     "text": [
      "CheckPoint : model_state_dict_epoch_30.pth\n",
      "train_loss : 0.006308314144654676, train_acc : 0.9999636627906977\n",
      "\n"
     ]
    },
    {
     "data": {
      "image/png": "[encoded data removed]",
      "text/plain": [
       "<Figure size 640x480 with 2 Axes>"
      ]
     },
     "metadata": {},
     "output_type": "display_data"
    }
   ],
   "source": [
    "acc_list = []\n",
    "loss_list = []\n",
    "\n",
    "def train(train_dataloader, model, device, args):\n",
    "    \"\"\"\n",
    "    주어진 데이터로 모델을 학습시키는 함수입니다.\n",
    "\n",
    "    Args:\n",
    "        train_dataloader (DataLoader): 학습 데이터를 제공하는 DataLoader 객체\n",
    "        valid_dataloader (DataLoader): 검증 데이터를 제공하는 DataLoader 객체\n",
    "        model (torch.nn.Module): 학습할 모델\n",
    "        device (torch.device): 사용할 디바이스 (CPU 또는 GPU)\n",
    "        args (dict): 학습 관련 인자들을 포함한 딕셔너리\n",
    "\n",
    "    Returns:\n",
    "        None\n",
    "    \"\"\"\n",
    "    \n",
    "    \n",
    "    # (5-1) Adam 옵티마이저와 교차 엔트로피 손실 함수 정의\n",
    "    optimizer = optim.Adam(params=model.parameters(), lr= args['lr']) \n",
    "    loss_fn = nn.CrossEntropyLoss()\n",
    "    \n",
    "    model.zero_grad()  # 모델의 그래디언트 초기화\n",
    "    \n",
    "    for epoch in range(args[\"epochs\"]):\n",
    "        model.train()       # 모델을 훈련 모드로 설정\n",
    "        \n",
    "        total_loss = 0      # 전체 손실 초기화\n",
    "        total_accuracy = 0  # 전체 정확도 초기화\n",
    "        \n",
    "        print(f'Epoch {epoch + 1}/{args[\"epochs\"]}')\n",
    "        \n",
    "        for image, label in tqdm(train_dataloader):\n",
    "            image = transform(image).to(device)\n",
    "            label = label.to(device)\n",
    "            \n",
    "            # print(image.shape, label.shape)\n",
    "            # print(image.dtype, label.dtype)\n",
    "            \n",
    "            \n",
    "            # (5-2) 모델을 사용하여 예측 수행\n",
    "            pred = model(image)\n",
    "            \n",
    "            # (5-3) 손실 계산 및 누적\n",
    "            loss = loss_fn(pred, label)\n",
    "            \n",
    "            # (5-4) 역전파를 통해 기울기 계산\n",
    "            loss.backward()\n",
    "            \n",
    "            # (5-5) 파라미터 업데이트\n",
    "            optimizer.step()\n",
    "            \n",
    "            # (5-6) 모델의 그래디언트 초기화\n",
    "            optimizer.zero_grad()\n",
    "            \n",
    "            # loss 계산\n",
    "            total_loss += loss.item()\n",
    "            \n",
    "            # accaracy 계산\n",
    "            label = label.cpu()\n",
    "            pred = pred.argmax(dim = 1).cpu()\n",
    "            accuracy = accuracy_score(label, pred)\n",
    "            total_accuracy += accuracy\n",
    "        \n",
    "        # 평균 손실과 정확도 계산\n",
    "        avg_loss = total_loss / len(train_dataloader)\n",
    "        avg_accuracy = total_accuracy / len(train_dataloader)\n",
    "        \n",
    "        loss_list.append(avg_loss)\n",
    "        acc_list.append(avg_accuracy)\n",
    "        \n",
    "        plt.subplot(121)\n",
    "        plt.plot(acc_list)\n",
    "        plt.title('Training accuracy per epochs')\n",
    "        plt.xlabel('epochs')\n",
    "        plt.ylabel('accuracy')\n",
    "\n",
    "        plt.subplot(122)\n",
    "        plt.plot(loss_list)\n",
    "        plt.title('Training loss per epochs')\n",
    "        plt.xlabel('epochs')\n",
    "        plt.ylabel('loss')\n",
    "        \n",
    "        # 모델 체크포인트 저장\n",
    "        os.makedirs(\"results\", exist_ok=True)\n",
    "        torch.save({\n",
    "            'epoch': epoch,\n",
    "            'model': model,\n",
    "            'model_state_dict': model.state_dict(),\n",
    "            'optimizer_state_dict': optimizer.state_dict(),\n",
    "            'loss': loss.item,\n",
    "            }, f'./results/model_state_dict_epoch_{epoch+1}.pth')\n",
    "        \n",
    "        # 현재 에포크의 손실과 정확도 출력\n",
    "        print(f'CheckPoint : model_state_dict_epoch_{epoch+1}.pth')\n",
    "        print(f'train_loss : {avg_loss}, train_acc : {avg_accuracy}\\n')\n",
    "    \n",
    "if __name__ == \"__main__\":\n",
    "    train(train_dataloader, model, device, args)"
   ]
  },
  {
   "cell_type": "markdown",
   "id": "6d66fdae",
   "metadata": {
    "papermill": {
     "duration": 0.226325,
     "end_time": "2024-08-20T05:01:56.207968",
     "exception": false,
     "start_time": "2024-08-20T05:01:55.981643",
     "status": "completed"
    },
    "tags": []
   },
   "source": [
    "# **4. 평가**"
   ]
  },
  {
   "cell_type": "code",
   "execution_count": 31,
   "id": "b8c036f3",
   "metadata": {
    "execution": {
     "iopub.execute_input": "2024-08-20T05:01:56.678825Z",
     "iopub.status.busy": "2024-08-20T05:01:56.678458Z",
     "iopub.status.idle": "2024-08-20T05:01:56.685146Z",
     "shell.execute_reply": "2024-08-20T05:01:56.684248Z"
    },
    "papermill": {
     "duration": 0.256166,
     "end_time": "2024-08-20T05:01:56.688077",
     "exception": false,
     "start_time": "2024-08-20T05:01:56.431911",
     "status": "completed"
    },
    "tags": []
   },
   "outputs": [
    {
     "name": "stdout",
     "output_type": "stream",
     "text": [
      "0.9999636627906977 29 0.006308314144654676\n"
     ]
    }
   ],
   "source": [
    "max_value = 0\n",
    "max_index = 0\n",
    "min_loss = 100\n",
    "\n",
    "for step, acc in enumerate(acc_list):\n",
    "    if max_value <= acc and min_loss >= loss_list[step]:\n",
    "        max_value = acc\n",
    "        max_index = step\n",
    "        min_loss = loss_list[step]\n",
    "print(max_value, max_index, min_loss)\n"
   ]
  },
  {
   "cell_type": "code",
   "execution_count": 32,
   "id": "9c5f052d",
   "metadata": {
    "execution": {
     "iopub.execute_input": "2024-08-20T05:01:57.142082Z",
     "iopub.status.busy": "2024-08-20T05:01:57.141403Z",
     "iopub.status.idle": "2024-08-20T05:01:57.442518Z",
     "shell.execute_reply": "2024-08-20T05:01:57.441520Z"
    },
    "papermill": {
     "duration": 0.528453,
     "end_time": "2024-08-20T05:01:57.444986",
     "exception": false,
     "start_time": "2024-08-20T05:01:56.916533",
     "status": "completed"
    },
    "tags": []
   },
   "outputs": [
    {
     "data": {
      "text/plain": [
       "[<matplotlib.lines.Line2D at 0x7b12b8e7c130>]"
      ]
     },
     "execution_count": 32,
     "metadata": {},
     "output_type": "execute_result"
    },
    {
     "data": {
      "image/png": "[encoded data removed]",
      "text/plain": [
       "<Figure size 640x480 with 1 Axes>"
      ]
     },
     "metadata": {},
     "output_type": "display_data"
    }
   ],
   "source": [
    "plt.plot(loss_list)"
   ]
  },
  {
   "cell_type": "code",
   "execution_count": 33,
   "id": "d3513f06",
   "metadata": {
    "execution": {
     "iopub.execute_input": "2024-08-20T05:01:57.956235Z",
     "iopub.status.busy": "2024-08-20T05:01:57.955853Z",
     "iopub.status.idle": "2024-08-20T05:01:58.215395Z",
     "shell.execute_reply": "2024-08-20T05:01:58.214354Z"
    },
    "papermill": {
     "duration": 0.486753,
     "end_time": "2024-08-20T05:01:58.217645",
     "exception": false,
     "start_time": "2024-08-20T05:01:57.730892",
     "status": "completed"
    },
    "tags": []
   },
   "outputs": [
    {
     "data": {
      "text/plain": [
       "[<matplotlib.lines.Line2D at 0x7b12b8ed7730>]"
      ]
     },
     "execution_count": 33,
     "metadata": {},
     "output_type": "execute_result"
    },
    {
     "data": {
      "image/png": "[encoded data removed]",
      "text/plain": [
       "<Figure size 640x480 with 1 Axes>"
      ]
     },
     "metadata": {},
     "output_type": "display_data"
    }
   ],
   "source": [
    "plt.plot(acc_list[50:])"
   ]
  },
  {
   "cell_type": "code",
   "execution_count": 34,
   "id": "f3237286",
   "metadata": {
    "execution": {
     "iopub.execute_input": "2024-08-20T05:01:58.666046Z",
     "iopub.status.busy": "2024-08-20T05:01:58.665661Z",
     "iopub.status.idle": "2024-08-20T05:01:58.919790Z",
     "shell.execute_reply": "2024-08-20T05:01:58.918785Z"
    },
    "papermill": {
     "duration": 0.482796,
     "end_time": "2024-08-20T05:01:58.921908",
     "exception": false,
     "start_time": "2024-08-20T05:01:58.439112",
     "status": "completed"
    },
    "tags": []
   },
   "outputs": [
    {
     "data": {
      "text/plain": [
       "[<matplotlib.lines.Line2D at 0x7b12b8d4b130>]"
      ]
     },
     "execution_count": 34,
     "metadata": {},
     "output_type": "execute_result"
    },
    {
     "data": {
      "image/png": "[encoded data removed]",
      "text/plain": [
       "<Figure size 640x480 with 1 Axes>"
      ]
     },
     "metadata": {},
     "output_type": "display_data"
    }
   ],
   "source": [
    "plt.plot(loss_list[50:])"
   ]
  },
  {
   "cell_type": "code",
   "execution_count": 35,
   "id": "20847129",
   "metadata": {
    "execution": {
     "iopub.execute_input": "2024-08-20T05:01:59.372840Z",
     "iopub.status.busy": "2024-08-20T05:01:59.372440Z",
     "iopub.status.idle": "2024-08-20T05:01:59.545006Z",
     "shell.execute_reply": "2024-08-20T05:01:59.544021Z"
    },
    "papermill": {
     "duration": 0.39957,
     "end_time": "2024-08-20T05:01:59.547399",
     "exception": false,
     "start_time": "2024-08-20T05:01:59.147829",
     "status": "completed"
    },
    "tags": []
   },
   "outputs": [
    {
     "data": {
      "text/plain": [
       "<All keys matched successfully>"
      ]
     },
     "execution_count": 35,
     "metadata": {},
     "output_type": "execute_result"
    }
   ],
   "source": [
    "checkpoint = torch.load(f\"/kaggle/working/results/model_state_dict_epoch_{max_index +1}.pth\", map_location=device)\n",
    "\n",
    "model.load_state_dict(checkpoint['model_state_dict'])"
   ]
  },
  {
   "cell_type": "code",
   "execution_count": 36,
   "id": "b13e7709",
   "metadata": {
    "execution": {
     "iopub.execute_input": "2024-08-20T05:01:59.994641Z",
     "iopub.status.busy": "2024-08-20T05:01:59.994271Z",
     "iopub.status.idle": "2024-08-20T05:02:18.242997Z",
     "shell.execute_reply": "2024-08-20T05:02:18.241949Z"
    },
    "papermill": {
     "duration": 18.47332,
     "end_time": "2024-08-20T05:02:18.245704",
     "exception": false,
     "start_time": "2024-08-20T05:01:59.772384",
     "status": "completed"
    },
    "tags": []
   },
   "outputs": [
    {
     "name": "stderr",
     "output_type": "stream",
     "text": [
      "100%|██████████| 7172/7172 [00:18<00:00, 393.30it/s]\n"
     ]
    }
   ],
   "source": [
    "def test(test_dataloader, model, device):\n",
    "    \"\"\"\n",
    "    모델의 테스트를 수행하는 함수입니다.\n",
    "\n",
    "    Args:\n",
    "        test_dataloader (DataLoader): 테스트 데이터를 제공하는 DataLoader 객체\n",
    "        model (torch.nn.Module): 평가할 모델\n",
    "        device (torch.device): 사용할 디바이스 (CPU 또는 GPU)\n",
    "\n",
    "    Returns:\n",
    "        preds (list): 각 입력 예시에 대한 모델의 예측 결과 리스트\n",
    "    \"\"\"\n",
    "    model.eval()    # 모델을 평가 모드로 설정\n",
    "    preds = []      # 예측 결과를 저장할 리스트\n",
    "    \n",
    "    # 각 배치에 대해 예측 수행\n",
    "    for image in tqdm(test_dataloader):\n",
    "        \n",
    "        # test_set에는 label이 잆으므로, 0번인 img data만 가져온다.\n",
    "        # test는 batch_size 가 1이다. -> input_shape : (1,3,28,28)\n",
    "        # transform 해주면, (1,3,32,32)\n",
    "        image = transform(image[0]).to(device)\n",
    "        \n",
    "        # 기울기 계산을 비활성화하여 예측 수행\n",
    "        with torch.no_grad():\n",
    "            # (6-1) 모델에 입력을 전달하여 예측 수행\n",
    "            # shape : [1, 25]\n",
    "            pred = model(image)\n",
    "            \n",
    "            # (6-2) argmax를 이용하여 예측 결과에서 가장 높은 값의 인덱스를 선택\n",
    "            pred_index = pred.argmax()\n",
    "            \n",
    "            # (6-3) 예측 결과를 CPU로 이동\n",
    "            pred_index = pred_index.cpu()\n",
    "\n",
    "            # (6-4) 예측을 numpy 배열로 변환\n",
    "            pred_index = pred_index.detach().numpy()\n",
    "\n",
    "            # (6-5) 예측 결과를 리스트에 추가\n",
    "            preds.append(pred_index)\n",
    "    \n",
    "    return preds\n",
    "\n",
    "\n",
    "if __name__ == \"__main__\":\n",
    "    # 예측값을 얻기 위해 test 함수 호출\n",
    "    preds = test(test_dataloader, model, device)"
   ]
  },
  {
   "cell_type": "code",
   "execution_count": 37,
   "id": "7153bfa7",
   "metadata": {
    "execution": {
     "iopub.execute_input": "2024-08-20T05:02:18.734860Z",
     "iopub.status.busy": "2024-08-20T05:02:18.734517Z",
     "iopub.status.idle": "2024-08-20T05:02:18.791589Z",
     "shell.execute_reply": "2024-08-20T05:02:18.790479Z"
    },
    "papermill": {
     "duration": 0.305699,
     "end_time": "2024-08-20T05:02:18.794412",
     "exception": false,
     "start_time": "2024-08-20T05:02:18.488713",
     "status": "completed"
    },
    "tags": []
   },
   "outputs": [],
   "source": [
    "submit = pd.read_csv(args[\"submit_path\"])\n",
    "submit[\"label\"] = preds\n",
    "submit.to_csv(\"submission.csv\", index = False)"
   ]
  },
  {
   "cell_type": "code",
   "execution_count": 38,
   "id": "2ca96802",
   "metadata": {
    "execution": {
     "iopub.execute_input": "2024-08-20T05:02:19.283003Z",
     "iopub.status.busy": "2024-08-20T05:02:19.282637Z",
     "iopub.status.idle": "2024-08-20T05:02:19.300593Z",
     "shell.execute_reply": "2024-08-20T05:02:19.299430Z"
    },
    "papermill": {
     "duration": 0.264116,
     "end_time": "2024-08-20T05:02:19.303111",
     "exception": false,
     "start_time": "2024-08-20T05:02:19.038995",
     "status": "completed"
    },
    "tags": []
   },
   "outputs": [
    {
     "data": {
      "text/html": [
       "<div>\n",
       "<style scoped>\n",
       "    .dataframe tbody tr th:only-of-type {\n",
       "        vertical-align: middle;\n",
       "    }\n",
       "\n",
       "    .dataframe tbody tr th {\n",
       "        vertical-align: top;\n",
       "    }\n",
       "\n",
       "    .dataframe thead th {\n",
       "        text-align: right;\n",
       "    }\n",
       "</style>\n",
       "<table border=\"1\" class=\"dataframe\">\n",
       "  <thead>\n",
       "    <tr style=\"text-align: right;\">\n",
       "      <th></th>\n",
       "      <th>id</th>\n",
       "      <th>label</th>\n",
       "    </tr>\n",
       "  </thead>\n",
       "  <tbody>\n",
       "    <tr>\n",
       "      <th>0</th>\n",
       "      <td>0</td>\n",
       "      <td>6</td>\n",
       "    </tr>\n",
       "    <tr>\n",
       "      <th>1</th>\n",
       "      <td>1</td>\n",
       "      <td>5</td>\n",
       "    </tr>\n",
       "    <tr>\n",
       "      <th>2</th>\n",
       "      <td>2</td>\n",
       "      <td>10</td>\n",
       "    </tr>\n",
       "    <tr>\n",
       "      <th>3</th>\n",
       "      <td>3</td>\n",
       "      <td>0</td>\n",
       "    </tr>\n",
       "    <tr>\n",
       "      <th>4</th>\n",
       "      <td>4</td>\n",
       "      <td>3</td>\n",
       "    </tr>\n",
       "    <tr>\n",
       "      <th>...</th>\n",
       "      <td>...</td>\n",
       "      <td>...</td>\n",
       "    </tr>\n",
       "    <tr>\n",
       "      <th>7167</th>\n",
       "      <td>7167</td>\n",
       "      <td>1</td>\n",
       "    </tr>\n",
       "    <tr>\n",
       "      <th>7168</th>\n",
       "      <td>7168</td>\n",
       "      <td>12</td>\n",
       "    </tr>\n",
       "    <tr>\n",
       "      <th>7169</th>\n",
       "      <td>7169</td>\n",
       "      <td>2</td>\n",
       "    </tr>\n",
       "    <tr>\n",
       "      <th>7170</th>\n",
       "      <td>7170</td>\n",
       "      <td>4</td>\n",
       "    </tr>\n",
       "    <tr>\n",
       "      <th>7171</th>\n",
       "      <td>7171</td>\n",
       "      <td>2</td>\n",
       "    </tr>\n",
       "  </tbody>\n",
       "</table>\n",
       "<p>7172 rows × 2 columns</p>\n",
       "</div>"
      ],
      "text/plain": [
       "        id label\n",
       "0        0     6\n",
       "1        1     5\n",
       "2        2    10\n",
       "3        3     0\n",
       "4        4     3\n",
       "...    ...   ...\n",
       "7167  7167     1\n",
       "7168  7168    12\n",
       "7169  7169     2\n",
       "7170  7170     4\n",
       "7171  7171     2\n",
       "\n",
       "[7172 rows x 2 columns]"
      ]
     },
     "execution_count": 38,
     "metadata": {},
     "output_type": "execute_result"
    }
   ],
   "source": [
    "submit"
   ]
  },
  {
   "cell_type": "code",
   "execution_count": 39,
   "id": "03fa4a5c",
   "metadata": {
    "execution": {
     "iopub.execute_input": "2024-08-20T05:02:19.859029Z",
     "iopub.status.busy": "2024-08-20T05:02:19.858664Z",
     "iopub.status.idle": "2024-08-20T05:02:21.015484Z",
     "shell.execute_reply": "2024-08-20T05:02:21.014027Z"
    },
    "papermill": {
     "duration": 1.469941,
     "end_time": "2024-08-20T05:02:21.018418",
     "exception": false,
     "start_time": "2024-08-20T05:02:19.548477",
     "status": "completed"
    },
    "tags": []
   },
   "outputs": [
    {
     "name": "stdout",
     "output_type": "stream",
     "text": [
      "__notebook__.ipynb  \u001b[0m\u001b[01;34mresults\u001b[0m/  submission.csv\r\n"
     ]
    }
   ],
   "source": [
    "%ls"
   ]
  }
 ],
 "metadata": {
  "kaggle": {
   "accelerator": "gpu",
   "dataSources": [
    {
     "databundleVersionId": 9016062,
     "sourceId": 82514,
     "sourceType": "competition"
    }
   ],
   "dockerImageVersionId": 30747,
   "isGpuEnabled": true,
   "isInternetEnabled": true,
   "language": "python",
   "sourceType": "notebook"
  },
  "kernelspec": {
   "display_name": "Python 3",
   "language": "python",
   "name": "python3"
  },
  "language_info": {
   "codemirror_mode": {
    "name": "ipython",
    "version": 3
   },
   "file_extension": ".py",
   "mimetype": "text/x-python",
   "name": "python",
   "nbconvert_exporter": "python",
   "pygments_lexer": "ipython3",
   "version": "3.10.13"
  },
  "papermill": {
   "default_parameters": {},
   "duration": 343.656093,
   "end_time": "2024-08-20T05:02:23.549727",
   "environment_variables": {},
   "exception": null,
   "input_path": "__notebook__.ipynb",
   "output_path": "__notebook__.ipynb",
   "parameters": {},
   "start_time": "2024-08-20T04:56:39.893634",
   "version": "2.5.0"
  }
 },
 "nbformat": 4,
 "nbformat_minor": 5
}
